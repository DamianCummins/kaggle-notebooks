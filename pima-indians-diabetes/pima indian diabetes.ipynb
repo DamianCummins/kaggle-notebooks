{
 "cells": [
  {
   "cell_type": "markdown",
   "metadata": {},
   "source": [
    "# Pima Indians Diabetes Database\n",
    "\n",
    "### Context\n",
    "This dataset is originally from the National Institute of Diabetes and Digestive and Kidney Diseases. The objective of the dataset is to diagnostically predict whether or not a patient has diabetes, based on certain diagnostic measurements included in the dataset. Several constraints were placed on the selection of these instances from a larger database. In particular, all patients here are females at least 21 years old of Pima Indian heritage.\n",
    "\n",
    "### Content\n",
    "The datasets consists of several medical predictor variables and one target variable, Outcome. Predictor variables includes the number of pregnancies the patient has had, their BMI, insulin level, age, and so on.\n",
    "\n",
    "### Acknowledgements\n",
    "Smith, J.W., Everhart, J.E., Dickson, W.C., Knowler, W.C., & Johannes, R.S. (1988). Using the ADAP learning algorithm to forecast the onset of diabetes mellitus. In Proceedings of the Symposium on Computer Applications and Medical Care (pp. 261--265). IEEE Computer Society Press.\n",
    "\n",
    "### Inspiration\n",
    "Can you build a machine learning model to accurately predict whether or not the patients in the dataset have diabetes or not?"
   ]
  },
  {
   "cell_type": "code",
   "execution_count": 1,
   "metadata": {
    "_cell_guid": "b1076dfc-b9ad-4769-8c92-a6c4dae69d19",
    "_uuid": "8f2839f25d086af736a60e9eeb907d3b93b6e0e5"
   },
   "outputs": [
    {
     "name": "stdout",
     "output_type": "stream",
     "text": [
      "./kernel150594f677.ipynb\n",
      "./diabetes.csv\n",
      "./logs/fit/20200725-151531/train/events.out.tfevents.1595686801.Damians-MBP.54959.886.v2\n",
      "./logs/fit/20200725-151531/train/events.out.tfevents.1595686801.Damians-MBP.profile-empty\n",
      "./logs/fit/20200725-151531/train/plugins/profile/2020-07-25_15-20-01/local.trace\n",
      "./logs/fit/20200725-151531/validation/events.out.tfevents.1595686801.Damians-MBP.54959.1115.v2\n",
      "./.ipynb_checkpoints/kernel150594f677-checkpoint.ipynb\n"
     ]
    }
   ],
   "source": [
    "# This Python 3 environment comes with many helpful analytics libraries installed\n",
    "# It is defined by the kaggle/python Docker image: https://github.com/kaggle/docker-python\n",
    "# For example, here's several helpful packages to load\n",
    "\n",
    "import numpy as np # linear algebra\n",
    "import pandas as pd # data processing, CSV file I/O (e.g. pd.read_csv)\n",
    "import matplotlib.pyplot as plt\n",
    "import seaborn as sns\n",
    "from pandas_profiling import ProfileReport\n",
    "\n",
    "# Input data files are available in the read-only \"../input/\" directory\n",
    "# For example, running this (by clicking run or pressing Shift+Enter) will list all files under the input directory\n",
    "\n",
    "import os\n",
    "for dirname, _, filenames in os.walk('./'):\n",
    "    for filename in filenames:\n",
    "        print(os.path.join(dirname, filename))\n",
    "\n",
    "# You can write up to 5GB to the current directory (/kaggle/working/) that gets preserved as output when you create a version using \"Save & Run All\" \n",
    "# You can also write temporary files to /kaggle/temp/, but they won't be saved outside of the current session"
   ]
  },
  {
   "cell_type": "code",
   "execution_count": 2,
   "metadata": {},
   "outputs": [
    {
     "data": {
      "text/html": [
       "<div>\n",
       "<style scoped>\n",
       "    .dataframe tbody tr th:only-of-type {\n",
       "        vertical-align: middle;\n",
       "    }\n",
       "\n",
       "    .dataframe tbody tr th {\n",
       "        vertical-align: top;\n",
       "    }\n",
       "\n",
       "    .dataframe thead th {\n",
       "        text-align: right;\n",
       "    }\n",
       "</style>\n",
       "<table border=\"1\" class=\"dataframe\">\n",
       "  <thead>\n",
       "    <tr style=\"text-align: right;\">\n",
       "      <th></th>\n",
       "      <th>Pregnancies</th>\n",
       "      <th>Glucose</th>\n",
       "      <th>BloodPressure</th>\n",
       "      <th>SkinThickness</th>\n",
       "      <th>Insulin</th>\n",
       "      <th>BMI</th>\n",
       "      <th>DiabetesPedigreeFunction</th>\n",
       "      <th>Age</th>\n",
       "      <th>Outcome</th>\n",
       "    </tr>\n",
       "  </thead>\n",
       "  <tbody>\n",
       "    <tr>\n",
       "      <th>0</th>\n",
       "      <td>6</td>\n",
       "      <td>148</td>\n",
       "      <td>72</td>\n",
       "      <td>35</td>\n",
       "      <td>0</td>\n",
       "      <td>33.6</td>\n",
       "      <td>0.627</td>\n",
       "      <td>50</td>\n",
       "      <td>1</td>\n",
       "    </tr>\n",
       "    <tr>\n",
       "      <th>1</th>\n",
       "      <td>1</td>\n",
       "      <td>85</td>\n",
       "      <td>66</td>\n",
       "      <td>29</td>\n",
       "      <td>0</td>\n",
       "      <td>26.6</td>\n",
       "      <td>0.351</td>\n",
       "      <td>31</td>\n",
       "      <td>0</td>\n",
       "    </tr>\n",
       "    <tr>\n",
       "      <th>2</th>\n",
       "      <td>8</td>\n",
       "      <td>183</td>\n",
       "      <td>64</td>\n",
       "      <td>0</td>\n",
       "      <td>0</td>\n",
       "      <td>23.3</td>\n",
       "      <td>0.672</td>\n",
       "      <td>32</td>\n",
       "      <td>1</td>\n",
       "    </tr>\n",
       "    <tr>\n",
       "      <th>3</th>\n",
       "      <td>1</td>\n",
       "      <td>89</td>\n",
       "      <td>66</td>\n",
       "      <td>23</td>\n",
       "      <td>94</td>\n",
       "      <td>28.1</td>\n",
       "      <td>0.167</td>\n",
       "      <td>21</td>\n",
       "      <td>0</td>\n",
       "    </tr>\n",
       "    <tr>\n",
       "      <th>4</th>\n",
       "      <td>0</td>\n",
       "      <td>137</td>\n",
       "      <td>40</td>\n",
       "      <td>35</td>\n",
       "      <td>168</td>\n",
       "      <td>43.1</td>\n",
       "      <td>2.288</td>\n",
       "      <td>33</td>\n",
       "      <td>1</td>\n",
       "    </tr>\n",
       "  </tbody>\n",
       "</table>\n",
       "</div>"
      ],
      "text/plain": [
       "   Pregnancies  Glucose  BloodPressure  SkinThickness  Insulin   BMI  \\\n",
       "0            6      148             72             35        0  33.6   \n",
       "1            1       85             66             29        0  26.6   \n",
       "2            8      183             64              0        0  23.3   \n",
       "3            1       89             66             23       94  28.1   \n",
       "4            0      137             40             35      168  43.1   \n",
       "\n",
       "   DiabetesPedigreeFunction  Age  Outcome  \n",
       "0                     0.627   50        1  \n",
       "1                     0.351   31        0  \n",
       "2                     0.672   32        1  \n",
       "3                     0.167   21        0  \n",
       "4                     2.288   33        1  "
      ]
     },
     "execution_count": 2,
     "metadata": {},
     "output_type": "execute_result"
    }
   ],
   "source": [
    "df = pd.read_csv('./diabetes.csv')\n",
    "df.head()"
   ]
  },
  {
   "cell_type": "code",
   "execution_count": 3,
   "metadata": {},
   "outputs": [
    {
     "data": {
      "text/html": [
       "<div>\n",
       "<style scoped>\n",
       "    .dataframe tbody tr th:only-of-type {\n",
       "        vertical-align: middle;\n",
       "    }\n",
       "\n",
       "    .dataframe tbody tr th {\n",
       "        vertical-align: top;\n",
       "    }\n",
       "\n",
       "    .dataframe thead th {\n",
       "        text-align: right;\n",
       "    }\n",
       "</style>\n",
       "<table border=\"1\" class=\"dataframe\">\n",
       "  <thead>\n",
       "    <tr style=\"text-align: right;\">\n",
       "      <th></th>\n",
       "      <th>Pregnancies</th>\n",
       "      <th>Glucose</th>\n",
       "      <th>BloodPressure</th>\n",
       "      <th>SkinThickness</th>\n",
       "      <th>Insulin</th>\n",
       "      <th>BMI</th>\n",
       "      <th>DiabetesPedigreeFunction</th>\n",
       "      <th>Age</th>\n",
       "      <th>Outcome</th>\n",
       "    </tr>\n",
       "  </thead>\n",
       "  <tbody>\n",
       "    <tr>\n",
       "      <th>count</th>\n",
       "      <td>768.000000</td>\n",
       "      <td>768.000000</td>\n",
       "      <td>768.000000</td>\n",
       "      <td>768.000000</td>\n",
       "      <td>768.000000</td>\n",
       "      <td>768.000000</td>\n",
       "      <td>768.000000</td>\n",
       "      <td>768.000000</td>\n",
       "      <td>768.000000</td>\n",
       "    </tr>\n",
       "    <tr>\n",
       "      <th>mean</th>\n",
       "      <td>3.845052</td>\n",
       "      <td>120.894531</td>\n",
       "      <td>69.105469</td>\n",
       "      <td>20.536458</td>\n",
       "      <td>79.799479</td>\n",
       "      <td>31.992578</td>\n",
       "      <td>0.471876</td>\n",
       "      <td>33.240885</td>\n",
       "      <td>0.348958</td>\n",
       "    </tr>\n",
       "    <tr>\n",
       "      <th>std</th>\n",
       "      <td>3.369578</td>\n",
       "      <td>31.972618</td>\n",
       "      <td>19.355807</td>\n",
       "      <td>15.952218</td>\n",
       "      <td>115.244002</td>\n",
       "      <td>7.884160</td>\n",
       "      <td>0.331329</td>\n",
       "      <td>11.760232</td>\n",
       "      <td>0.476951</td>\n",
       "    </tr>\n",
       "    <tr>\n",
       "      <th>min</th>\n",
       "      <td>0.000000</td>\n",
       "      <td>0.000000</td>\n",
       "      <td>0.000000</td>\n",
       "      <td>0.000000</td>\n",
       "      <td>0.000000</td>\n",
       "      <td>0.000000</td>\n",
       "      <td>0.078000</td>\n",
       "      <td>21.000000</td>\n",
       "      <td>0.000000</td>\n",
       "    </tr>\n",
       "    <tr>\n",
       "      <th>25%</th>\n",
       "      <td>1.000000</td>\n",
       "      <td>99.000000</td>\n",
       "      <td>62.000000</td>\n",
       "      <td>0.000000</td>\n",
       "      <td>0.000000</td>\n",
       "      <td>27.300000</td>\n",
       "      <td>0.243750</td>\n",
       "      <td>24.000000</td>\n",
       "      <td>0.000000</td>\n",
       "    </tr>\n",
       "    <tr>\n",
       "      <th>50%</th>\n",
       "      <td>3.000000</td>\n",
       "      <td>117.000000</td>\n",
       "      <td>72.000000</td>\n",
       "      <td>23.000000</td>\n",
       "      <td>30.500000</td>\n",
       "      <td>32.000000</td>\n",
       "      <td>0.372500</td>\n",
       "      <td>29.000000</td>\n",
       "      <td>0.000000</td>\n",
       "    </tr>\n",
       "    <tr>\n",
       "      <th>75%</th>\n",
       "      <td>6.000000</td>\n",
       "      <td>140.250000</td>\n",
       "      <td>80.000000</td>\n",
       "      <td>32.000000</td>\n",
       "      <td>127.250000</td>\n",
       "      <td>36.600000</td>\n",
       "      <td>0.626250</td>\n",
       "      <td>41.000000</td>\n",
       "      <td>1.000000</td>\n",
       "    </tr>\n",
       "    <tr>\n",
       "      <th>max</th>\n",
       "      <td>17.000000</td>\n",
       "      <td>199.000000</td>\n",
       "      <td>122.000000</td>\n",
       "      <td>99.000000</td>\n",
       "      <td>846.000000</td>\n",
       "      <td>67.100000</td>\n",
       "      <td>2.420000</td>\n",
       "      <td>81.000000</td>\n",
       "      <td>1.000000</td>\n",
       "    </tr>\n",
       "  </tbody>\n",
       "</table>\n",
       "</div>"
      ],
      "text/plain": [
       "       Pregnancies     Glucose  BloodPressure  SkinThickness     Insulin  \\\n",
       "count   768.000000  768.000000     768.000000     768.000000  768.000000   \n",
       "mean      3.845052  120.894531      69.105469      20.536458   79.799479   \n",
       "std       3.369578   31.972618      19.355807      15.952218  115.244002   \n",
       "min       0.000000    0.000000       0.000000       0.000000    0.000000   \n",
       "25%       1.000000   99.000000      62.000000       0.000000    0.000000   \n",
       "50%       3.000000  117.000000      72.000000      23.000000   30.500000   \n",
       "75%       6.000000  140.250000      80.000000      32.000000  127.250000   \n",
       "max      17.000000  199.000000     122.000000      99.000000  846.000000   \n",
       "\n",
       "              BMI  DiabetesPedigreeFunction         Age     Outcome  \n",
       "count  768.000000                768.000000  768.000000  768.000000  \n",
       "mean    31.992578                  0.471876   33.240885    0.348958  \n",
       "std      7.884160                  0.331329   11.760232    0.476951  \n",
       "min      0.000000                  0.078000   21.000000    0.000000  \n",
       "25%     27.300000                  0.243750   24.000000    0.000000  \n",
       "50%     32.000000                  0.372500   29.000000    0.000000  \n",
       "75%     36.600000                  0.626250   41.000000    1.000000  \n",
       "max     67.100000                  2.420000   81.000000    1.000000  "
      ]
     },
     "execution_count": 3,
     "metadata": {},
     "output_type": "execute_result"
    }
   ],
   "source": [
    "df.describe()"
   ]
  },
  {
   "cell_type": "code",
   "execution_count": 4,
   "metadata": {},
   "outputs": [
    {
     "data": {
      "application/vnd.jupyter.widget-view+json": {
       "model_id": "ca7b2e1121054c9b8c55301a650aa70d",
       "version_major": 2,
       "version_minor": 0
      },
      "text/plain": [
       "HBox(children=(FloatProgress(value=0.0, description='Summarize dataset', max=23.0, style=ProgressStyle(descrip…"
      ]
     },
     "metadata": {},
     "output_type": "display_data"
    },
    {
     "name": "stdout",
     "output_type": "stream",
     "text": [
      "\n"
     ]
    },
    {
     "data": {
      "application/vnd.jupyter.widget-view+json": {
       "model_id": "8cdc8b9fea1d4272a04c701010c87423",
       "version_major": 2,
       "version_minor": 0
      },
      "text/plain": [
       "HBox(children=(FloatProgress(value=0.0, description='Generate report structure', max=1.0, style=ProgressStyle(…"
      ]
     },
     "metadata": {},
     "output_type": "display_data"
    },
    {
     "name": "stderr",
     "output_type": "stream",
     "text": [
      "/anaconda3/envs/aios/lib/python3.6/site-packages/pandas_profiling/visualisation/plot.py:154: MatplotlibDeprecationWarning: You are modifying the state of a globally registered colormap. In future versions, you will not be able to modify a registered colormap in-place. To remove this warning, you can make a copy of the colormap first. cmap = copy.copy(mpl.cm.get_cmap(\"RdBu\"))\n",
      "  cmap.set_bad(cmap_bad)\n"
     ]
    },
    {
     "name": "stdout",
     "output_type": "stream",
     "text": [
      "\n"
     ]
    },
    {
     "data": {
      "application/vnd.jupyter.widget-view+json": {
       "model_id": "7171ed35219f4658827670a45571c936",
       "version_major": 2,
       "version_minor": 0
      },
      "text/plain": [
       "HBox(children=(FloatProgress(value=0.0, description='Render HTML', max=1.0, style=ProgressStyle(description_wi…"
      ]
     },
     "metadata": {},
     "output_type": "display_data"
    },
    {
     "name": "stdout",
     "output_type": "stream",
     "text": [
      "\n"
     ]
    },
    {
     "data": {
      "application/vnd.jupyter.widget-view+json": {
       "model_id": "798012fb718f4a1db7a9b6d1fbdfff8b",
       "version_major": 2,
       "version_minor": 0
      },
      "text/plain": [
       "HBox(children=(FloatProgress(value=0.0, description='Export report to file', max=1.0, style=ProgressStyle(desc…"
      ]
     },
     "metadata": {},
     "output_type": "display_data"
    },
    {
     "name": "stdout",
     "output_type": "stream",
     "text": [
      "\n"
     ]
    }
   ],
   "source": [
    "#EDA using Pandas Profiling\n",
    "file = ProfileReport(df)\n",
    "file.to_file(output_file='output.html')"
   ]
  },
  {
   "cell_type": "code",
   "execution_count": 7,
   "metadata": {},
   "outputs": [
    {
     "name": "stdout",
     "output_type": "stream",
     "text": [
      "Statistics=0.819, p=0.000\n"
     ]
    }
   ],
   "source": [
    "from scipy.stats import shapiro\n",
    "stat, p = shapiro(df['BloodPressure'])\n",
    "print('Statistics=%.3f, p=%.3f' % (stat, p))"
   ]
  },
  {
   "cell_type": "markdown",
   "metadata": {},
   "source": [
    "The p-value is less than 0.001, implying that at 5% Level of Significance (LOS) we reject our null hypothesis (Ho). Therefore, the variable does not follow a normal distribution."
   ]
  },
  {
   "cell_type": "code",
   "execution_count": 5,
   "metadata": {},
   "outputs": [
    {
     "data": {
      "image/png": "[encoded data removed]",
      "text/plain": [
       "<Figure size 432x288 with 1 Axes>"
      ]
     },
     "metadata": {
      "needs_background": "light"
     },
     "output_type": "display_data"
    }
   ],
   "source": [
    "#Classifying the Blood Pressure based on class\n",
    "ax = sns.violinplot(x='Outcome', y='BloodPressure', data=df, palette='muted', split=True)"
   ]
  },
  {
   "cell_type": "code",
   "execution_count": 6,
   "metadata": {},
   "outputs": [],
   "source": [
    "#Replacing the zero-values for Blood Pressure\n",
    "df1 = df.loc[df['Outcome'] == 1]\n",
    "df2 = df.loc[df['Outcome'] == 0]\n",
    "df1 = df1.replace({'BloodPressure':0}, np.median(df1['BloodPressure']))\n",
    "df2 = df2.replace({'BloodPressure':0}, np.median(df2['BloodPressure']))\n",
    "dataframe = [df1, df2]\n",
    "df = pd.concat(dataframe)"
   ]
  },
  {
   "cell_type": "code",
   "execution_count": 7,
   "metadata": {},
   "outputs": [
    {
     "data": {
      "image/png": "[encoded data removed]",
      "text/plain": [
       "<Figure size 432x288 with 1 Axes>"
      ]
     },
     "metadata": {
      "needs_background": "light"
     },
     "output_type": "display_data"
    }
   ],
   "source": [
    "#Classifying the BMI based on class\n",
    "ax = sns.violinplot(x='Outcome', y='BMI', data=df, palette='muted', split=True)"
   ]
  },
  {
   "cell_type": "code",
   "execution_count": 8,
   "metadata": {},
   "outputs": [],
   "source": [
    "#Replacing the zero-values for BMI\n",
    "df1 = df.loc[df['Outcome'] == 1]\n",
    "df2 = df.loc[df['Outcome'] == 0]\n",
    "df1 = df1.replace({'BMI':0}, np.median(df1['BMI']))\n",
    "df2 = df2.replace({'BMI':0}, np.median(df2['BMI']))\n",
    "dataframe = [df1, df2]\n",
    "df = pd.concat(dataframe)"
   ]
  },
  {
   "cell_type": "code",
   "execution_count": 9,
   "metadata": {},
   "outputs": [
    {
     "data": {
      "image/png": "[encoded data removed]",
      "text/plain": [
       "<Figure size 432x288 with 1 Axes>"
      ]
     },
     "metadata": {
      "needs_background": "light"
     },
     "output_type": "display_data"
    }
   ],
   "source": [
    "#Classifying the DiabetesPedigreeFunction based on class\n",
    "ax = sns.violinplot(x='Outcome', y='DiabetesPedigreeFunction', data=df, palette='muted', split=True)"
   ]
  },
  {
   "cell_type": "code",
   "execution_count": 10,
   "metadata": {},
   "outputs": [
    {
     "data": {
      "image/png": "[encoded data removed]",
      "text/plain": [
       "<Figure size 432x288 with 1 Axes>"
      ]
     },
     "metadata": {
      "needs_background": "light"
     },
     "output_type": "display_data"
    }
   ],
   "source": [
    "#Classifying the Glucose based on class\n",
    "ax = sns.violinplot(x='Outcome', y='Glucose', data=df, palette='muted', split=True)"
   ]
  },
  {
   "cell_type": "code",
   "execution_count": 11,
   "metadata": {},
   "outputs": [],
   "source": [
    "#Replacing the zero-values for Glucose\n",
    "df1 = df.loc[df['Outcome'] == 1]\n",
    "df2 = df.loc[df['Outcome'] == 0]\n",
    "df1 = df1.replace({'Glucose':0}, np.median(df1['Glucose']))\n",
    "df2 = df2.replace({'Glucose':0}, np.median(df2['Glucose']))\n",
    "dataframe = [df1, df2]\n",
    "df = pd.concat(dataframe)"
   ]
  },
  {
   "cell_type": "code",
   "execution_count": 12,
   "metadata": {},
   "outputs": [
    {
     "data": {
      "image/png": "[encoded data removed]",
      "text/plain": [
       "<Figure size 432x288 with 1 Axes>"
      ]
     },
     "metadata": {
      "needs_background": "light"
     },
     "output_type": "display_data"
    }
   ],
   "source": [
    "#Classifying the Insulin based on class\n",
    "ax = sns.violinplot(x='Outcome', y='Insulin', data=df, palette='muted', split=True)"
   ]
  },
  {
   "cell_type": "code",
   "execution_count": 13,
   "metadata": {},
   "outputs": [],
   "source": [
    "#Replacing the zero-values for Insulin\n",
    "df1 = df.loc[df['Outcome'] == 1]\n",
    "df2 = df.loc[df['Outcome'] == 0]\n",
    "df1 = df1.replace({'Insulin':0}, np.median(df1['Insulin']))\n",
    "df2 = df2.replace({'Insulin':0}, np.median(df2['Insulin']))\n",
    "dataframe = [df1, df2]\n",
    "df = pd.concat(dataframe)"
   ]
  },
  {
   "cell_type": "code",
   "execution_count": 14,
   "metadata": {},
   "outputs": [
    {
     "data": {
      "image/png": "[encoded data removed]",
      "text/plain": [
       "<Figure size 432x288 with 1 Axes>"
      ]
     },
     "metadata": {
      "needs_background": "light"
     },
     "output_type": "display_data"
    }
   ],
   "source": [
    "#Classifying the Pregnancies based on class\n",
    "ax = sns.violinplot(x='Outcome', y='Pregnancies', data=df, palette='muted', split=True)"
   ]
  },
  {
   "cell_type": "code",
   "execution_count": 15,
   "metadata": {},
   "outputs": [
    {
     "data": {
      "image/png": "[encoded data removed]",
      "text/plain": [
       "<Figure size 432x288 with 1 Axes>"
      ]
     },
     "metadata": {
      "needs_background": "light"
     },
     "output_type": "display_data"
    }
   ],
   "source": [
    "#Classifying the Skin Thickness based on class\n",
    "ax = sns.violinplot(x='Outcome', y='SkinThickness', data=df, palette='muted', split=True)"
   ]
  },
  {
   "cell_type": "code",
   "execution_count": 16,
   "metadata": {},
   "outputs": [],
   "source": [
    "#Replacing the zero-values for Skin Thickness\n",
    "df1 = df.loc[df['Outcome'] == 1]\n",
    "df2 = df.loc[df['Outcome'] == 0]\n",
    "df1 = df1.replace({'SkinThickness':0}, np.median(df1['SkinThickness']))\n",
    "df2 = df2.replace({'SkinThickness':0}, np.median(df2['SkinThickness']))\n",
    "dataframe = [df1, df2]\n",
    "df = pd.concat(dataframe)"
   ]
  },
  {
   "cell_type": "code",
   "execution_count": 17,
   "metadata": {},
   "outputs": [
    {
     "name": "stdout",
     "output_type": "stream",
     "text": [
      "Pearsons correlation: 0.544\n"
     ]
    }
   ],
   "source": [
    "from scipy.stats import pearsonr\n",
    "corr, _ = pearsonr(df['Age'], df['Pregnancies'])\n",
    "print('Pearsons correlation: %.3f' % corr)"
   ]
  },
  {
   "cell_type": "markdown",
   "metadata": {},
   "source": [
    "### Features and Labels"
   ]
  },
  {
   "cell_type": "code",
   "execution_count": 18,
   "metadata": {},
   "outputs": [
    {
     "name": "stderr",
     "output_type": "stream",
     "text": [
      "/anaconda3/envs/aios/lib/python3.6/site-packages/sklearn/preprocessing/data.py:625: DataConversionWarning: Data with input dtype int64, float64 were all converted to float64 by StandardScaler.\n",
      "  return self.partial_fit(X, y)\n",
      "/anaconda3/envs/aios/lib/python3.6/site-packages/sklearn/base.py:462: DataConversionWarning: Data with input dtype int64, float64 were all converted to float64 by StandardScaler.\n",
      "  return self.fit(X, **fit_params).transform(X)\n"
     ]
    }
   ],
   "source": [
    "y = df['Outcome']\n",
    "x = df[['Pregnancies', 'Glucose', 'BloodPressure', 'SkinThickness', 'Insulin', 'BMI', 'DiabetesPedigreeFunction', 'Age']]\n",
    "columns = x.columns\n",
    "\n",
    "from sklearn.preprocessing import StandardScaler\n",
    "scaler = StandardScaler()\n",
    "scaled_x = scaler.fit_transform(x)\n",
    "X = pd.DataFrame(scaled_x, columns = columns)"
   ]
  },
  {
   "cell_type": "markdown",
   "metadata": {},
   "source": [
    "### Training and Testing Datasets"
   ]
  },
  {
   "cell_type": "code",
   "execution_count": 19,
   "metadata": {},
   "outputs": [],
   "source": [
    "from sklearn.model_selection import train_test_split\n",
    "X_train, X_test, y_train, y_test = train_test_split(X, y, test_size = 0.15, random_state = 0)"
   ]
  },
  {
   "cell_type": "code",
   "execution_count": 20,
   "metadata": {},
   "outputs": [
    {
     "data": {
      "text/html": [
       "<div>\n",
       "<style scoped>\n",
       "    .dataframe tbody tr th:only-of-type {\n",
       "        vertical-align: middle;\n",
       "    }\n",
       "\n",
       "    .dataframe tbody tr th {\n",
       "        vertical-align: top;\n",
       "    }\n",
       "\n",
       "    .dataframe thead th {\n",
       "        text-align: right;\n",
       "    }\n",
       "</style>\n",
       "<table border=\"1\" class=\"dataframe\">\n",
       "  <thead>\n",
       "    <tr style=\"text-align: right;\">\n",
       "      <th></th>\n",
       "      <th>Pregnancies</th>\n",
       "      <th>Glucose</th>\n",
       "      <th>BloodPressure</th>\n",
       "      <th>SkinThickness</th>\n",
       "      <th>Insulin</th>\n",
       "      <th>BMI</th>\n",
       "      <th>DiabetesPedigreeFunction</th>\n",
       "      <th>Age</th>\n",
       "    </tr>\n",
       "  </thead>\n",
       "  <tbody>\n",
       "    <tr>\n",
       "      <th>279</th>\n",
       "      <td>0.342981</td>\n",
       "      <td>-0.153627</td>\n",
       "      <td>1.622041</td>\n",
       "      <td>-0.690362</td>\n",
       "      <td>-0.488510</td>\n",
       "      <td>0.242297</td>\n",
       "      <td>-0.407342</td>\n",
       "      <td>0.404942</td>\n",
       "    </tr>\n",
       "    <tr>\n",
       "      <th>258</th>\n",
       "      <td>-0.250952</td>\n",
       "      <td>2.145652</td>\n",
       "      <td>-0.196660</td>\n",
       "      <td>-0.583013</td>\n",
       "      <td>1.001531</td>\n",
       "      <td>0.576785</td>\n",
       "      <td>-0.192914</td>\n",
       "      <td>0.234767</td>\n",
       "    </tr>\n",
       "    <tr>\n",
       "      <th>249</th>\n",
       "      <td>0.342981</td>\n",
       "      <td>-0.810564</td>\n",
       "      <td>0.299349</td>\n",
       "      <td>-0.046266</td>\n",
       "      <td>-0.849452</td>\n",
       "      <td>0.460442</td>\n",
       "      <td>-0.283518</td>\n",
       "      <td>1.596171</td>\n",
       "    </tr>\n",
       "    <tr>\n",
       "      <th>740</th>\n",
       "      <td>0.342981</td>\n",
       "      <td>-0.153627</td>\n",
       "      <td>1.126031</td>\n",
       "      <td>0.275781</td>\n",
       "      <td>0.122314</td>\n",
       "      <td>0.969445</td>\n",
       "      <td>-0.667073</td>\n",
       "      <td>0.745293</td>\n",
       "    </tr>\n",
       "    <tr>\n",
       "      <th>725</th>\n",
       "      <td>0.046014</td>\n",
       "      <td>0.174841</td>\n",
       "      <td>1.291368</td>\n",
       "      <td>-1.763854</td>\n",
       "      <td>0.585060</td>\n",
       "      <td>0.300469</td>\n",
       "      <td>0.380909</td>\n",
       "      <td>-0.445935</td>\n",
       "    </tr>\n",
       "  </tbody>\n",
       "</table>\n",
       "</div>"
      ],
      "text/plain": [
       "     Pregnancies   Glucose  BloodPressure  SkinThickness   Insulin       BMI  \\\n",
       "279     0.342981 -0.153627       1.622041      -0.690362 -0.488510  0.242297   \n",
       "258    -0.250952  2.145652      -0.196660      -0.583013  1.001531  0.576785   \n",
       "249     0.342981 -0.810564       0.299349      -0.046266 -0.849452  0.460442   \n",
       "740     0.342981 -0.153627       1.126031       0.275781  0.122314  0.969445   \n",
       "725     0.046014  0.174841       1.291368      -1.763854  0.585060  0.300469   \n",
       "\n",
       "     DiabetesPedigreeFunction       Age  \n",
       "279                 -0.407342  0.404942  \n",
       "258                 -0.192914  0.234767  \n",
       "249                 -0.283518  1.596171  \n",
       "740                 -0.667073  0.745293  \n",
       "725                  0.380909 -0.445935  "
      ]
     },
     "execution_count": 20,
     "metadata": {},
     "output_type": "execute_result"
    }
   ],
   "source": [
    "X_train.head()"
   ]
  },
  {
   "cell_type": "code",
   "execution_count": 21,
   "metadata": {},
   "outputs": [
    {
     "data": {
      "text/plain": [
       "29     0\n",
       "748    1\n",
       "719    1\n",
       "723    0\n",
       "698    0\n",
       "Name: Outcome, dtype: int64"
      ]
     },
     "execution_count": 21,
     "metadata": {},
     "output_type": "execute_result"
    }
   ],
   "source": [
    "y_train.head()"
   ]
  },
  {
   "cell_type": "markdown",
   "metadata": {},
   "source": [
    "### Classification Model Comparison"
   ]
  },
  {
   "cell_type": "code",
   "execution_count": 22,
   "metadata": {},
   "outputs": [],
   "source": [
    "from sklearn.neural_network import MLPClassifier\n",
    "from sklearn.neighbors import KNeighborsClassifier\n",
    "from sklearn.svm import SVC\n",
    "from sklearn.gaussian_process import GaussianProcessClassifier\n",
    "from sklearn.gaussian_process.kernels import RBF\n",
    "from sklearn.tree import DecisionTreeClassifier\n",
    "from sklearn.ensemble import RandomForestClassifier, AdaBoostClassifier\n",
    "from sklearn.naive_bayes import GaussianNB\n",
    "from sklearn.discriminant_analysis import QuadraticDiscriminantAnalysis\n",
    "\n",
    "h = .02  # step size in the mesh\n",
    "\n",
    "names = [\"Nearest Neighbors\", \"Linear SVM\", \"RBF SVM\", \"Gaussian Process\",\n",
    "         \"Decision Tree\", \"Random Forest\", \"Neural Net\", \"AdaBoost\",\n",
    "         \"Naive Bayes\", \"QDA\"]\n",
    "\n",
    "classifiers = [\n",
    "    KNeighborsClassifier(3),\n",
    "    SVC(kernel=\"linear\", C=0.025),\n",
    "    SVC(gamma=2, C=1),\n",
    "    GaussianProcessClassifier(1.0 * RBF(1.0)),\n",
    "    DecisionTreeClassifier(max_depth=5),\n",
    "    RandomForestClassifier(max_depth=5, n_estimators=10, max_features=1),\n",
    "    MLPClassifier(alpha=1, max_iter=1000),\n",
    "    AdaBoostClassifier(),\n",
    "    GaussianNB(),\n",
    "    QuadraticDiscriminantAnalysis()]"
   ]
  },
  {
   "cell_type": "code",
   "execution_count": 23,
   "metadata": {},
   "outputs": [
    {
     "name": "stdout",
     "output_type": "stream",
     "text": [
      "0.75\n"
     ]
    }
   ],
   "source": [
    "scores = {}\n",
    "for name,clf in zip(names, classifiers):\n",
    "    clf.fit(X_train, y_train)\n",
    "    score = clf.score(X_test, y_test)\n",
    "    scores[name] = score\n",
    "print(score)"
   ]
  },
  {
   "cell_type": "code",
   "execution_count": 24,
   "metadata": {},
   "outputs": [
    {
     "name": "stdout",
     "output_type": "stream",
     "text": [
      "Neural Net 0.8879310344827587\n",
      "Decision Tree 0.8706896551724138\n",
      "Random Forest 0.853448275862069\n",
      "Gaussian Process 0.8362068965517241\n",
      "AdaBoost 0.8017241379310345\n",
      "Linear SVM 0.7758620689655172\n",
      "Nearest Neighbors 0.7672413793103449\n",
      "Naive Bayes 0.75\n",
      "QDA 0.75\n",
      "RBF SVM 0.6551724137931034\n"
     ]
    }
   ],
   "source": [
    "sorted_scores = sorted(scores.items(), key=lambda x: x[1], reverse=True)\n",
    "for i in sorted_scores:\n",
    "    print(i[0], i[1])"
   ]
  },
  {
   "cell_type": "markdown",
   "metadata": {},
   "source": [
    "## Neural Network - Tensorflow\n",
    "https://drive.google.com/file/d/1Y42Pic0ebkxOz2PrL7hjh3Yj2vE0MVHS/view - the paper associated with this dataset achieved a higher accuracy using a Neural Network."
   ]
  },
  {
   "cell_type": "code",
   "execution_count": 25,
   "metadata": {},
   "outputs": [],
   "source": [
    "# Load the TensorBoard notebook extension.\n",
    "%load_ext tensorboard"
   ]
  },
  {
   "cell_type": "code",
   "execution_count": 26,
   "metadata": {},
   "outputs": [
    {
     "data": {
      "text/html": [
       "\n",
       "      <iframe id=\"tensorboard-frame-3be06f3b2d925c6f\" width=\"100%\" height=\"800\" frameborder=\"0\">\n",
       "      </iframe>\n",
       "      <script>\n",
       "        (function() {\n",
       "          const frame = document.getElementById(\"tensorboard-frame-3be06f3b2d925c6f\");\n",
       "          const url = new URL(\"/\", window.location);\n",
       "          url.port = 6007;\n",
       "          frame.src = url;\n",
       "        })();\n",
       "      </script>\n",
       "  "
      ],
      "text/plain": [
       "<IPython.core.display.HTML object>"
      ]
     },
     "metadata": {},
     "output_type": "display_data"
    }
   ],
   "source": [
    "%tensorboard --logdir logs"
   ]
  },
  {
   "cell_type": "code",
   "execution_count": 27,
   "metadata": {},
   "outputs": [],
   "source": [
    "# Clear any logs from previous runs\n",
    "!rm -rf ./logs/ "
   ]
  },
  {
   "cell_type": "code",
   "execution_count": 28,
   "metadata": {},
   "outputs": [],
   "source": [
    "import tensorflow as tf\n",
    "\n",
    "from tensorflow.keras.layers import Dense, Dropout, InputLayer\n",
    "from tensorflow.keras import Model"
   ]
  },
  {
   "cell_type": "code",
   "execution_count": 29,
   "metadata": {},
   "outputs": [
    {
     "name": "stdout",
     "output_type": "stream",
     "text": [
      "TensorFlow version:  2.0.0\n"
     ]
    }
   ],
   "source": [
    "from datetime import datetime\n",
    "from packaging import version\n",
    "\n",
    "print(\"TensorFlow version: \", tf.__version__)\n",
    "assert version.parse(tf.__version__).release[0] >= 2, \\\n",
    "    \"This notebook requires TensorFlow 2.0 or above.\""
   ]
  },
  {
   "cell_type": "code",
   "execution_count": 30,
   "metadata": {},
   "outputs": [],
   "source": [
    "# Define the Keras TensorBoard callback.\n",
    "logdir=\"logs/fit/\" + datetime.now().strftime(\"%Y%m%d-%H%M%S\")\n",
    "tensorboard_callback = tf.keras.callbacks.TensorBoard(log_dir=logdir)"
   ]
  },
  {
   "cell_type": "markdown",
   "metadata": {},
   "source": [
    "### Define the model\n",
    "Input Layer -> Fully Connected 64 -> Dropout -> Fully Connected 32 -> Dropout -> Output Layer"
   ]
  },
  {
   "cell_type": "code",
   "execution_count": 31,
   "metadata": {},
   "outputs": [
    {
     "data": {
      "text/plain": [
       "(652, 8)"
      ]
     },
     "execution_count": 31,
     "metadata": {},
     "output_type": "execute_result"
    }
   ],
   "source": [
    "X_train.shape"
   ]
  },
  {
   "cell_type": "code",
   "execution_count": 32,
   "metadata": {},
   "outputs": [],
   "source": [
    "model = tf.keras.models.Sequential([\n",
    "  Dense(64, input_shape=(8,), activation='elu'),\n",
    "  Dropout(0.25),\n",
    "  Dense(32, activation='elu'),\n",
    "  Dropout(0.5),\n",
    "  Dense(1, activation='sigmoid'),\n",
    "])"
   ]
  },
  {
   "cell_type": "code",
   "execution_count": 33,
   "metadata": {},
   "outputs": [],
   "source": [
    "loss_fn = tf.keras.losses.MeanSquaredError()"
   ]
  },
  {
   "cell_type": "code",
   "execution_count": 34,
   "metadata": {},
   "outputs": [],
   "source": [
    "model.compile(optimizer='RMSProp',\n",
    "              loss=loss_fn,\n",
    "              metrics=['accuracy'])"
   ]
  },
  {
   "cell_type": "code",
   "execution_count": 35,
   "metadata": {},
   "outputs": [
    {
     "name": "stderr",
     "output_type": "stream",
     "text": [
      "WARNING: Logging before flag parsing goes to stderr.\n",
      "W0725 17:10:03.090598 4692284864 training.py:504] Falling back from v2 loop because of error: Failed to find data adapter that can handle input: <class 'pandas.core.frame.DataFrame'>, <class 'NoneType'>\n"
     ]
    },
    {
     "name": "stdout",
     "output_type": "stream",
     "text": [
      "Train on 586 samples, validate on 66 samples\n",
      "Epoch 1/300\n",
      "586/586 [==============================] - 0s 426us/sample - loss: 0.2040 - accuracy: 0.6860 - val_loss: 0.1525 - val_accuracy: 0.8182\n",
      "Epoch 2/300\n",
      "586/586 [==============================] - 0s 58us/sample - loss: 0.1788 - accuracy: 0.7253 - val_loss: 0.1420 - val_accuracy: 0.7879\n",
      "Epoch 3/300\n",
      "586/586 [==============================] - 0s 71us/sample - loss: 0.1695 - accuracy: 0.7491 - val_loss: 0.1371 - val_accuracy: 0.8182\n",
      "Epoch 4/300\n",
      "586/586 [==============================] - 0s 69us/sample - loss: 0.1626 - accuracy: 0.7594 - val_loss: 0.1357 - val_accuracy: 0.8182\n",
      "Epoch 5/300\n",
      "586/586 [==============================] - 0s 64us/sample - loss: 0.1610 - accuracy: 0.7594 - val_loss: 0.1332 - val_accuracy: 0.8182\n",
      "Epoch 6/300\n",
      "586/586 [==============================] - 0s 62us/sample - loss: 0.1585 - accuracy: 0.7679 - val_loss: 0.1338 - val_accuracy: 0.8333\n",
      "Epoch 7/300\n",
      "586/586 [==============================] - 0s 63us/sample - loss: 0.1534 - accuracy: 0.7765 - val_loss: 0.1328 - val_accuracy: 0.8182\n",
      "Epoch 8/300\n",
      "586/586 [==============================] - 0s 56us/sample - loss: 0.1537 - accuracy: 0.7696 - val_loss: 0.1340 - val_accuracy: 0.8030\n",
      "Epoch 9/300\n",
      "586/586 [==============================] - 0s 66us/sample - loss: 0.1582 - accuracy: 0.7713 - val_loss: 0.1354 - val_accuracy: 0.8030\n",
      "Epoch 10/300\n",
      "586/586 [==============================] - 0s 68us/sample - loss: 0.1518 - accuracy: 0.7799 - val_loss: 0.1344 - val_accuracy: 0.8182\n",
      "Epoch 11/300\n",
      "586/586 [==============================] - 0s 63us/sample - loss: 0.1473 - accuracy: 0.7816 - val_loss: 0.1342 - val_accuracy: 0.8182\n",
      "Epoch 12/300\n",
      "586/586 [==============================] - 0s 66us/sample - loss: 0.1531 - accuracy: 0.7747 - val_loss: 0.1358 - val_accuracy: 0.8030\n",
      "Epoch 13/300\n",
      "586/586 [==============================] - 0s 66us/sample - loss: 0.1585 - accuracy: 0.7696 - val_loss: 0.1354 - val_accuracy: 0.8030\n",
      "Epoch 14/300\n",
      "586/586 [==============================] - 0s 63us/sample - loss: 0.1561 - accuracy: 0.7747 - val_loss: 0.1356 - val_accuracy: 0.8030\n",
      "Epoch 15/300\n",
      "586/586 [==============================] - 0s 64us/sample - loss: 0.1543 - accuracy: 0.7765 - val_loss: 0.1353 - val_accuracy: 0.8182\n",
      "Epoch 16/300\n",
      "586/586 [==============================] - 0s 60us/sample - loss: 0.1551 - accuracy: 0.7662 - val_loss: 0.1368 - val_accuracy: 0.8030\n",
      "Epoch 17/300\n",
      "586/586 [==============================] - 0s 67us/sample - loss: 0.1513 - accuracy: 0.7747 - val_loss: 0.1341 - val_accuracy: 0.8182\n",
      "Epoch 18/300\n",
      "586/586 [==============================] - 0s 73us/sample - loss: 0.1542 - accuracy: 0.7730 - val_loss: 0.1341 - val_accuracy: 0.8182\n",
      "Epoch 19/300\n",
      "586/586 [==============================] - 0s 70us/sample - loss: 0.1596 - accuracy: 0.7713 - val_loss: 0.1327 - val_accuracy: 0.8182\n",
      "Epoch 20/300\n",
      "586/586 [==============================] - 0s 64us/sample - loss: 0.1528 - accuracy: 0.7765 - val_loss: 0.1332 - val_accuracy: 0.8030\n",
      "Epoch 21/300\n",
      "586/586 [==============================] - 0s 58us/sample - loss: 0.1533 - accuracy: 0.7782 - val_loss: 0.1316 - val_accuracy: 0.8182\n",
      "Epoch 22/300\n",
      "586/586 [==============================] - 0s 64us/sample - loss: 0.1523 - accuracy: 0.7543 - val_loss: 0.1317 - val_accuracy: 0.8182\n",
      "Epoch 23/300\n",
      "586/586 [==============================] - 0s 77us/sample - loss: 0.1529 - accuracy: 0.7730 - val_loss: 0.1323 - val_accuracy: 0.8182\n",
      "Epoch 24/300\n",
      "586/586 [==============================] - 0s 70us/sample - loss: 0.1545 - accuracy: 0.7765 - val_loss: 0.1322 - val_accuracy: 0.8182\n",
      "Epoch 25/300\n",
      "586/586 [==============================] - 0s 68us/sample - loss: 0.1547 - accuracy: 0.7730 - val_loss: 0.1316 - val_accuracy: 0.8182\n",
      "Epoch 26/300\n",
      "586/586 [==============================] - 0s 63us/sample - loss: 0.1569 - accuracy: 0.7747 - val_loss: 0.1318 - val_accuracy: 0.8182\n",
      "Epoch 27/300\n",
      "586/586 [==============================] - 0s 70us/sample - loss: 0.1519 - accuracy: 0.7782 - val_loss: 0.1310 - val_accuracy: 0.8182\n",
      "Epoch 28/300\n",
      "586/586 [==============================] - 0s 70us/sample - loss: 0.1582 - accuracy: 0.7645 - val_loss: 0.1321 - val_accuracy: 0.8182\n",
      "Epoch 29/300\n",
      "586/586 [==============================] - 0s 62us/sample - loss: 0.1519 - accuracy: 0.7696 - val_loss: 0.1318 - val_accuracy: 0.8182\n",
      "Epoch 30/300\n",
      "586/586 [==============================] - 0s 66us/sample - loss: 0.1523 - accuracy: 0.7850 - val_loss: 0.1313 - val_accuracy: 0.8182\n",
      "Epoch 31/300\n",
      "586/586 [==============================] - 0s 67us/sample - loss: 0.1441 - accuracy: 0.7884 - val_loss: 0.1304 - val_accuracy: 0.8030\n",
      "Epoch 32/300\n",
      "586/586 [==============================] - 0s 69us/sample - loss: 0.1490 - accuracy: 0.7901 - val_loss: 0.1311 - val_accuracy: 0.8182\n",
      "Epoch 33/300\n",
      "586/586 [==============================] - 0s 67us/sample - loss: 0.1491 - accuracy: 0.7850 - val_loss: 0.1301 - val_accuracy: 0.8030\n",
      "Epoch 34/300\n",
      "586/586 [==============================] - 0s 65us/sample - loss: 0.1478 - accuracy: 0.7799 - val_loss: 0.1299 - val_accuracy: 0.8182\n",
      "Epoch 35/300\n",
      "586/586 [==============================] - 0s 62us/sample - loss: 0.1412 - accuracy: 0.8072 - val_loss: 0.1296 - val_accuracy: 0.8030\n",
      "Epoch 36/300\n",
      "586/586 [==============================] - 0s 71us/sample - loss: 0.1492 - accuracy: 0.7918 - val_loss: 0.1283 - val_accuracy: 0.8030\n",
      "Epoch 37/300\n",
      "586/586 [==============================] - 0s 69us/sample - loss: 0.1477 - accuracy: 0.7782 - val_loss: 0.1290 - val_accuracy: 0.8182\n",
      "Epoch 38/300\n",
      "586/586 [==============================] - 0s 57us/sample - loss: 0.1467 - accuracy: 0.7833 - val_loss: 0.1308 - val_accuracy: 0.8030\n",
      "Epoch 39/300\n",
      "586/586 [==============================] - 0s 64us/sample - loss: 0.1496 - accuracy: 0.7986 - val_loss: 0.1303 - val_accuracy: 0.8182\n",
      "Epoch 40/300\n",
      "586/586 [==============================] - 0s 59us/sample - loss: 0.1495 - accuracy: 0.7952 - val_loss: 0.1287 - val_accuracy: 0.8182\n",
      "Epoch 41/300\n",
      "586/586 [==============================] - 0s 53us/sample - loss: 0.1448 - accuracy: 0.7730 - val_loss: 0.1294 - val_accuracy: 0.8182\n",
      "Epoch 42/300\n",
      "586/586 [==============================] - 0s 67us/sample - loss: 0.1427 - accuracy: 0.8020 - val_loss: 0.1293 - val_accuracy: 0.8182\n",
      "Epoch 43/300\n",
      "586/586 [==============================] - 0s 60us/sample - loss: 0.1439 - accuracy: 0.7952 - val_loss: 0.1289 - val_accuracy: 0.8182\n",
      "Epoch 44/300\n",
      "586/586 [==============================] - 0s 60us/sample - loss: 0.1451 - accuracy: 0.7901 - val_loss: 0.1286 - val_accuracy: 0.8182\n",
      "Epoch 45/300\n",
      "586/586 [==============================] - 0s 53us/sample - loss: 0.1450 - accuracy: 0.7969 - val_loss: 0.1296 - val_accuracy: 0.8182\n",
      "Epoch 46/300\n",
      "586/586 [==============================] - 0s 51us/sample - loss: 0.1499 - accuracy: 0.7816 - val_loss: 0.1284 - val_accuracy: 0.8182\n",
      "Epoch 47/300\n",
      "586/586 [==============================] - 0s 50us/sample - loss: 0.1437 - accuracy: 0.7918 - val_loss: 0.1278 - val_accuracy: 0.8182\n",
      "Epoch 48/300\n",
      "586/586 [==============================] - 0s 51us/sample - loss: 0.1521 - accuracy: 0.7662 - val_loss: 0.1281 - val_accuracy: 0.8182\n",
      "Epoch 49/300\n",
      "586/586 [==============================] - 0s 59us/sample - loss: 0.1438 - accuracy: 0.7952 - val_loss: 0.1263 - val_accuracy: 0.8182\n",
      "Epoch 50/300\n",
      "586/586 [==============================] - 0s 53us/sample - loss: 0.1454 - accuracy: 0.7884 - val_loss: 0.1272 - val_accuracy: 0.8182\n",
      "Epoch 51/300\n",
      "586/586 [==============================] - 0s 51us/sample - loss: 0.1507 - accuracy: 0.7816 - val_loss: 0.1271 - val_accuracy: 0.8182\n",
      "Epoch 52/300\n",
      "586/586 [==============================] - 0s 52us/sample - loss: 0.1466 - accuracy: 0.7884 - val_loss: 0.1264 - val_accuracy: 0.8333\n",
      "Epoch 53/300\n",
      "586/586 [==============================] - 0s 57us/sample - loss: 0.1452 - accuracy: 0.7969 - val_loss: 0.1264 - val_accuracy: 0.8333\n",
      "Epoch 54/300\n",
      "586/586 [==============================] - 0s 59us/sample - loss: 0.1439 - accuracy: 0.7935 - val_loss: 0.1264 - val_accuracy: 0.8182\n",
      "Epoch 55/300\n",
      "586/586 [==============================] - 0s 53us/sample - loss: 0.1464 - accuracy: 0.7867 - val_loss: 0.1257 - val_accuracy: 0.8333\n",
      "Epoch 56/300\n"
     ]
    },
    {
     "name": "stdout",
     "output_type": "stream",
     "text": [
      "586/586 [==============================] - 0s 52us/sample - loss: 0.1446 - accuracy: 0.7850 - val_loss: 0.1248 - val_accuracy: 0.8333\n",
      "Epoch 57/300\n",
      "586/586 [==============================] - 0s 53us/sample - loss: 0.1421 - accuracy: 0.7884 - val_loss: 0.1259 - val_accuracy: 0.8182\n",
      "Epoch 58/300\n",
      "586/586 [==============================] - 0s 56us/sample - loss: 0.1458 - accuracy: 0.7884 - val_loss: 0.1263 - val_accuracy: 0.8030\n",
      "Epoch 59/300\n",
      "586/586 [==============================] - 0s 55us/sample - loss: 0.1404 - accuracy: 0.8055 - val_loss: 0.1245 - val_accuracy: 0.8333\n",
      "Epoch 60/300\n",
      "586/586 [==============================] - 0s 54us/sample - loss: 0.1485 - accuracy: 0.7867 - val_loss: 0.1246 - val_accuracy: 0.8333\n",
      "Epoch 61/300\n",
      "586/586 [==============================] - 0s 55us/sample - loss: 0.1444 - accuracy: 0.7850 - val_loss: 0.1239 - val_accuracy: 0.8333\n",
      "Epoch 62/300\n",
      "586/586 [==============================] - 0s 55us/sample - loss: 0.1432 - accuracy: 0.7986 - val_loss: 0.1245 - val_accuracy: 0.8333\n",
      "Epoch 63/300\n",
      "586/586 [==============================] - 0s 57us/sample - loss: 0.1447 - accuracy: 0.7867 - val_loss: 0.1253 - val_accuracy: 0.8182\n",
      "Epoch 64/300\n",
      "586/586 [==============================] - 0s 56us/sample - loss: 0.1476 - accuracy: 0.7799 - val_loss: 0.1248 - val_accuracy: 0.8182\n",
      "Epoch 65/300\n",
      "586/586 [==============================] - 0s 55us/sample - loss: 0.1423 - accuracy: 0.7969 - val_loss: 0.1224 - val_accuracy: 0.8333\n",
      "Epoch 66/300\n",
      "586/586 [==============================] - 0s 54us/sample - loss: 0.1421 - accuracy: 0.8020 - val_loss: 0.1231 - val_accuracy: 0.8333\n",
      "Epoch 67/300\n",
      "586/586 [==============================] - 0s 53us/sample - loss: 0.1451 - accuracy: 0.8038 - val_loss: 0.1224 - val_accuracy: 0.8485\n",
      "Epoch 68/300\n",
      "586/586 [==============================] - 0s 52us/sample - loss: 0.1407 - accuracy: 0.7901 - val_loss: 0.1216 - val_accuracy: 0.8333\n",
      "Epoch 69/300\n",
      "586/586 [==============================] - 0s 54us/sample - loss: 0.1434 - accuracy: 0.8003 - val_loss: 0.1215 - val_accuracy: 0.8485\n",
      "Epoch 70/300\n",
      "586/586 [==============================] - 0s 52us/sample - loss: 0.1423 - accuracy: 0.7969 - val_loss: 0.1209 - val_accuracy: 0.8485\n",
      "Epoch 71/300\n",
      "586/586 [==============================] - 0s 52us/sample - loss: 0.1431 - accuracy: 0.8020 - val_loss: 0.1204 - val_accuracy: 0.8485\n",
      "Epoch 72/300\n",
      "586/586 [==============================] - 0s 53us/sample - loss: 0.1428 - accuracy: 0.7901 - val_loss: 0.1204 - val_accuracy: 0.8485\n",
      "Epoch 73/300\n",
      "586/586 [==============================] - 0s 60us/sample - loss: 0.1460 - accuracy: 0.7816 - val_loss: 0.1202 - val_accuracy: 0.8485\n",
      "Epoch 74/300\n",
      "586/586 [==============================] - 0s 63us/sample - loss: 0.1421 - accuracy: 0.8020 - val_loss: 0.1208 - val_accuracy: 0.8333\n",
      "Epoch 75/300\n",
      "586/586 [==============================] - 0s 60us/sample - loss: 0.1450 - accuracy: 0.7799 - val_loss: 0.1206 - val_accuracy: 0.8333\n",
      "Epoch 76/300\n",
      "586/586 [==============================] - 0s 47us/sample - loss: 0.1358 - accuracy: 0.8157 - val_loss: 0.1205 - val_accuracy: 0.8333\n",
      "Epoch 77/300\n",
      "586/586 [==============================] - 0s 51us/sample - loss: 0.1356 - accuracy: 0.8174 - val_loss: 0.1194 - val_accuracy: 0.8485\n",
      "Epoch 78/300\n",
      "586/586 [==============================] - 0s 54us/sample - loss: 0.1413 - accuracy: 0.8020 - val_loss: 0.1193 - val_accuracy: 0.8485\n",
      "Epoch 79/300\n",
      "586/586 [==============================] - 0s 53us/sample - loss: 0.1360 - accuracy: 0.8055 - val_loss: 0.1184 - val_accuracy: 0.8485\n",
      "Epoch 80/300\n",
      "586/586 [==============================] - 0s 55us/sample - loss: 0.1392 - accuracy: 0.8106 - val_loss: 0.1180 - val_accuracy: 0.8485\n",
      "Epoch 81/300\n",
      "586/586 [==============================] - 0s 54us/sample - loss: 0.1460 - accuracy: 0.8003 - val_loss: 0.1185 - val_accuracy: 0.8485\n",
      "Epoch 82/300\n",
      "586/586 [==============================] - 0s 55us/sample - loss: 0.1455 - accuracy: 0.7867 - val_loss: 0.1193 - val_accuracy: 0.8485\n",
      "Epoch 83/300\n",
      "586/586 [==============================] - 0s 51us/sample - loss: 0.1422 - accuracy: 0.8020 - val_loss: 0.1188 - val_accuracy: 0.8485\n",
      "Epoch 84/300\n",
      "586/586 [==============================] - 0s 54us/sample - loss: 0.1423 - accuracy: 0.7952 - val_loss: 0.1178 - val_accuracy: 0.8485\n",
      "Epoch 85/300\n",
      "586/586 [==============================] - 0s 49us/sample - loss: 0.1443 - accuracy: 0.8106 - val_loss: 0.1182 - val_accuracy: 0.8636\n",
      "Epoch 86/300\n",
      "586/586 [==============================] - 0s 51us/sample - loss: 0.1463 - accuracy: 0.7935 - val_loss: 0.1185 - val_accuracy: 0.8636\n",
      "Epoch 87/300\n",
      "586/586 [==============================] - 0s 49us/sample - loss: 0.1405 - accuracy: 0.8020 - val_loss: 0.1180 - val_accuracy: 0.8485\n",
      "Epoch 88/300\n",
      "586/586 [==============================] - 0s 53us/sample - loss: 0.1363 - accuracy: 0.8003 - val_loss: 0.1184 - val_accuracy: 0.8636\n",
      "Epoch 89/300\n",
      "586/586 [==============================] - 0s 48us/sample - loss: 0.1412 - accuracy: 0.8003 - val_loss: 0.1181 - val_accuracy: 0.8636\n",
      "Epoch 90/300\n",
      "586/586 [==============================] - 0s 46us/sample - loss: 0.1392 - accuracy: 0.8106 - val_loss: 0.1180 - val_accuracy: 0.8636\n",
      "Epoch 91/300\n",
      "586/586 [==============================] - 0s 48us/sample - loss: 0.1413 - accuracy: 0.7952 - val_loss: 0.1179 - val_accuracy: 0.8636\n",
      "Epoch 92/300\n",
      "586/586 [==============================] - 0s 42us/sample - loss: 0.1392 - accuracy: 0.8089 - val_loss: 0.1182 - val_accuracy: 0.8636\n",
      "Epoch 93/300\n",
      "586/586 [==============================] - 0s 48us/sample - loss: 0.1407 - accuracy: 0.7850 - val_loss: 0.1175 - val_accuracy: 0.8333\n",
      "Epoch 94/300\n",
      "586/586 [==============================] - 0s 48us/sample - loss: 0.1352 - accuracy: 0.8123 - val_loss: 0.1162 - val_accuracy: 0.8485\n",
      "Epoch 95/300\n",
      "586/586 [==============================] - 0s 50us/sample - loss: 0.1396 - accuracy: 0.8038 - val_loss: 0.1158 - val_accuracy: 0.8485\n",
      "Epoch 96/300\n",
      "586/586 [==============================] - 0s 43us/sample - loss: 0.1345 - accuracy: 0.8174 - val_loss: 0.1157 - val_accuracy: 0.8485\n",
      "Epoch 97/300\n",
      "586/586 [==============================] - 0s 53us/sample - loss: 0.1375 - accuracy: 0.8089 - val_loss: 0.1150 - val_accuracy: 0.8636\n",
      "Epoch 98/300\n",
      "586/586 [==============================] - 0s 57us/sample - loss: 0.1453 - accuracy: 0.7833 - val_loss: 0.1156 - val_accuracy: 0.8636\n",
      "Epoch 99/300\n",
      "586/586 [==============================] - 0s 52us/sample - loss: 0.1285 - accuracy: 0.8191 - val_loss: 0.1144 - val_accuracy: 0.8636\n",
      "Epoch 100/300\n",
      "586/586 [==============================] - 0s 52us/sample - loss: 0.1421 - accuracy: 0.7867 - val_loss: 0.1152 - val_accuracy: 0.8636\n",
      "Epoch 101/300\n",
      "586/586 [==============================] - 0s 54us/sample - loss: 0.1374 - accuracy: 0.7901 - val_loss: 0.1144 - val_accuracy: 0.8636\n",
      "Epoch 102/300\n",
      "586/586 [==============================] - 0s 51us/sample - loss: 0.1421 - accuracy: 0.8020 - val_loss: 0.1145 - val_accuracy: 0.8636\n",
      "Epoch 103/300\n",
      "586/586 [==============================] - 0s 51us/sample - loss: 0.1395 - accuracy: 0.7935 - val_loss: 0.1137 - val_accuracy: 0.8636\n",
      "Epoch 104/300\n",
      "586/586 [==============================] - 0s 55us/sample - loss: 0.1385 - accuracy: 0.7918 - val_loss: 0.1139 - val_accuracy: 0.8636\n",
      "Epoch 105/300\n",
      "586/586 [==============================] - 0s 53us/sample - loss: 0.1409 - accuracy: 0.7952 - val_loss: 0.1141 - val_accuracy: 0.8485\n",
      "Epoch 106/300\n",
      "586/586 [==============================] - 0s 49us/sample - loss: 0.1358 - accuracy: 0.8038 - val_loss: 0.1135 - val_accuracy: 0.8636\n",
      "Epoch 107/300\n",
      "586/586 [==============================] - 0s 50us/sample - loss: 0.1426 - accuracy: 0.7850 - val_loss: 0.1128 - val_accuracy: 0.8636\n",
      "Epoch 108/300\n",
      "586/586 [==============================] - 0s 49us/sample - loss: 0.1310 - accuracy: 0.8089 - val_loss: 0.1132 - val_accuracy: 0.8636\n",
      "Epoch 109/300\n",
      "586/586 [==============================] - 0s 46us/sample - loss: 0.1289 - accuracy: 0.8157 - val_loss: 0.1119 - val_accuracy: 0.8636\n",
      "Epoch 110/300\n",
      "586/586 [==============================] - 0s 47us/sample - loss: 0.1393 - accuracy: 0.7969 - val_loss: 0.1115 - val_accuracy: 0.8485\n",
      "Epoch 111/300\n",
      "586/586 [==============================] - 0s 53us/sample - loss: 0.1432 - accuracy: 0.7935 - val_loss: 0.1112 - val_accuracy: 0.8636\n"
     ]
    },
    {
     "name": "stdout",
     "output_type": "stream",
     "text": [
      "Epoch 112/300\n",
      "586/586 [==============================] - 0s 49us/sample - loss: 0.1347 - accuracy: 0.8038 - val_loss: 0.1113 - val_accuracy: 0.8636\n",
      "Epoch 113/300\n",
      "586/586 [==============================] - 0s 51us/sample - loss: 0.1361 - accuracy: 0.8003 - val_loss: 0.1115 - val_accuracy: 0.8636\n",
      "Epoch 114/300\n",
      "586/586 [==============================] - 0s 48us/sample - loss: 0.1342 - accuracy: 0.8003 - val_loss: 0.1108 - val_accuracy: 0.8636\n",
      "Epoch 115/300\n",
      "586/586 [==============================] - 0s 49us/sample - loss: 0.1332 - accuracy: 0.8038 - val_loss: 0.1103 - val_accuracy: 0.8636\n",
      "Epoch 116/300\n",
      "586/586 [==============================] - 0s 49us/sample - loss: 0.1398 - accuracy: 0.7986 - val_loss: 0.1106 - val_accuracy: 0.8485\n",
      "Epoch 117/300\n",
      "586/586 [==============================] - 0s 47us/sample - loss: 0.1369 - accuracy: 0.8089 - val_loss: 0.1097 - val_accuracy: 0.8636\n",
      "Epoch 118/300\n",
      "586/586 [==============================] - 0s 51us/sample - loss: 0.1424 - accuracy: 0.7935 - val_loss: 0.1095 - val_accuracy: 0.8636\n",
      "Epoch 119/300\n",
      "586/586 [==============================] - 0s 46us/sample - loss: 0.1363 - accuracy: 0.8157 - val_loss: 0.1086 - val_accuracy: 0.8636\n",
      "Epoch 120/300\n",
      "586/586 [==============================] - 0s 55us/sample - loss: 0.1318 - accuracy: 0.8157 - val_loss: 0.1079 - val_accuracy: 0.8636\n",
      "Epoch 121/300\n",
      "586/586 [==============================] - 0s 51us/sample - loss: 0.1376 - accuracy: 0.7952 - val_loss: 0.1080 - val_accuracy: 0.8485\n",
      "Epoch 122/300\n",
      "586/586 [==============================] - 0s 52us/sample - loss: 0.1386 - accuracy: 0.7969 - val_loss: 0.1083 - val_accuracy: 0.8485\n",
      "Epoch 123/300\n",
      "586/586 [==============================] - 0s 52us/sample - loss: 0.1352 - accuracy: 0.8191 - val_loss: 0.1082 - val_accuracy: 0.8485\n",
      "Epoch 124/300\n",
      "586/586 [==============================] - 0s 51us/sample - loss: 0.1347 - accuracy: 0.8055 - val_loss: 0.1081 - val_accuracy: 0.8485\n",
      "Epoch 125/300\n",
      "586/586 [==============================] - 0s 46us/sample - loss: 0.1383 - accuracy: 0.8055 - val_loss: 0.1078 - val_accuracy: 0.8636\n",
      "Epoch 126/300\n",
      "586/586 [==============================] - 0s 49us/sample - loss: 0.1316 - accuracy: 0.8123 - val_loss: 0.1066 - val_accuracy: 0.8636\n",
      "Epoch 127/300\n",
      "586/586 [==============================] - 0s 50us/sample - loss: 0.1331 - accuracy: 0.8038 - val_loss: 0.1060 - val_accuracy: 0.8485\n",
      "Epoch 128/300\n",
      "586/586 [==============================] - 0s 51us/sample - loss: 0.1349 - accuracy: 0.8106 - val_loss: 0.1059 - val_accuracy: 0.8485\n",
      "Epoch 129/300\n",
      "586/586 [==============================] - 0s 49us/sample - loss: 0.1365 - accuracy: 0.7918 - val_loss: 0.1067 - val_accuracy: 0.8636\n",
      "Epoch 130/300\n",
      "586/586 [==============================] - 0s 54us/sample - loss: 0.1349 - accuracy: 0.8157 - val_loss: 0.1060 - val_accuracy: 0.8636\n",
      "Epoch 131/300\n",
      "586/586 [==============================] - 0s 49us/sample - loss: 0.1341 - accuracy: 0.8157 - val_loss: 0.1049 - val_accuracy: 0.8788\n",
      "Epoch 132/300\n",
      "586/586 [==============================] - 0s 50us/sample - loss: 0.1305 - accuracy: 0.8174 - val_loss: 0.1045 - val_accuracy: 0.8636\n",
      "Epoch 133/300\n",
      "586/586 [==============================] - 0s 53us/sample - loss: 0.1315 - accuracy: 0.8259 - val_loss: 0.1048 - val_accuracy: 0.8636\n",
      "Epoch 134/300\n",
      "586/586 [==============================] - 0s 46us/sample - loss: 0.1347 - accuracy: 0.8140 - val_loss: 0.1039 - val_accuracy: 0.8485\n",
      "Epoch 135/300\n",
      "586/586 [==============================] - 0s 48us/sample - loss: 0.1328 - accuracy: 0.8038 - val_loss: 0.1038 - val_accuracy: 0.8636\n",
      "Epoch 136/300\n",
      "586/586 [==============================] - 0s 50us/sample - loss: 0.1314 - accuracy: 0.8242 - val_loss: 0.1038 - val_accuracy: 0.8636\n",
      "Epoch 137/300\n",
      "586/586 [==============================] - 0s 48us/sample - loss: 0.1295 - accuracy: 0.8208 - val_loss: 0.1030 - val_accuracy: 0.8636\n",
      "Epoch 138/300\n",
      "586/586 [==============================] - 0s 46us/sample - loss: 0.1316 - accuracy: 0.8225 - val_loss: 0.1026 - val_accuracy: 0.8485\n",
      "Epoch 139/300\n",
      "586/586 [==============================] - 0s 47us/sample - loss: 0.1309 - accuracy: 0.8174 - val_loss: 0.1026 - val_accuracy: 0.8636\n",
      "Epoch 140/300\n",
      "586/586 [==============================] - 0s 52us/sample - loss: 0.1226 - accuracy: 0.8362 - val_loss: 0.1008 - val_accuracy: 0.8636\n",
      "Epoch 141/300\n",
      "586/586 [==============================] - 0s 50us/sample - loss: 0.1341 - accuracy: 0.8174 - val_loss: 0.1008 - val_accuracy: 0.8636\n",
      "Epoch 142/300\n",
      "586/586 [==============================] - 0s 48us/sample - loss: 0.1300 - accuracy: 0.8140 - val_loss: 0.1003 - val_accuracy: 0.8788\n",
      "Epoch 143/300\n",
      "586/586 [==============================] - 0s 47us/sample - loss: 0.1367 - accuracy: 0.8089 - val_loss: 0.1003 - val_accuracy: 0.8485\n",
      "Epoch 144/300\n",
      "586/586 [==============================] - 0s 50us/sample - loss: 0.1343 - accuracy: 0.8123 - val_loss: 0.1008 - val_accuracy: 0.8636\n",
      "Epoch 145/300\n",
      "586/586 [==============================] - 0s 49us/sample - loss: 0.1338 - accuracy: 0.8089 - val_loss: 0.1005 - val_accuracy: 0.8788\n",
      "Epoch 146/300\n",
      "586/586 [==============================] - 0s 47us/sample - loss: 0.1342 - accuracy: 0.8038 - val_loss: 0.1004 - val_accuracy: 0.8636\n",
      "Epoch 147/300\n",
      "586/586 [==============================] - 0s 51us/sample - loss: 0.1338 - accuracy: 0.8089 - val_loss: 0.1004 - val_accuracy: 0.8636\n",
      "Epoch 148/300\n",
      "586/586 [==============================] - 0s 47us/sample - loss: 0.1345 - accuracy: 0.8055 - val_loss: 0.0995 - val_accuracy: 0.8636\n",
      "Epoch 149/300\n",
      "586/586 [==============================] - 0s 55us/sample - loss: 0.1247 - accuracy: 0.8242 - val_loss: 0.0994 - val_accuracy: 0.8636\n",
      "Epoch 150/300\n",
      "586/586 [==============================] - 0s 49us/sample - loss: 0.1236 - accuracy: 0.8242 - val_loss: 0.0983 - val_accuracy: 0.8636\n",
      "Epoch 151/300\n",
      "586/586 [==============================] - 0s 46us/sample - loss: 0.1239 - accuracy: 0.8259 - val_loss: 0.0981 - val_accuracy: 0.8636\n",
      "Epoch 152/300\n",
      "586/586 [==============================] - 0s 48us/sample - loss: 0.1302 - accuracy: 0.8294 - val_loss: 0.0974 - val_accuracy: 0.8636\n",
      "Epoch 153/300\n",
      "586/586 [==============================] - 0s 48us/sample - loss: 0.1254 - accuracy: 0.8345 - val_loss: 0.0974 - val_accuracy: 0.8636\n",
      "Epoch 154/300\n",
      "586/586 [==============================] - 0s 47us/sample - loss: 0.1250 - accuracy: 0.8396 - val_loss: 0.0984 - val_accuracy: 0.8636\n",
      "Epoch 155/300\n",
      "586/586 [==============================] - 0s 47us/sample - loss: 0.1353 - accuracy: 0.8106 - val_loss: 0.0974 - val_accuracy: 0.8485\n",
      "Epoch 156/300\n",
      "586/586 [==============================] - 0s 47us/sample - loss: 0.1295 - accuracy: 0.8174 - val_loss: 0.0964 - val_accuracy: 0.8636\n",
      "Epoch 157/300\n",
      "586/586 [==============================] - 0s 49us/sample - loss: 0.1284 - accuracy: 0.8225 - val_loss: 0.0961 - val_accuracy: 0.8636\n",
      "Epoch 158/300\n",
      "586/586 [==============================] - 0s 52us/sample - loss: 0.1249 - accuracy: 0.8345 - val_loss: 0.0969 - val_accuracy: 0.8636\n",
      "Epoch 159/300\n",
      "586/586 [==============================] - 0s 46us/sample - loss: 0.1348 - accuracy: 0.8072 - val_loss: 0.0965 - val_accuracy: 0.8636\n",
      "Epoch 160/300\n",
      "586/586 [==============================] - 0s 49us/sample - loss: 0.1245 - accuracy: 0.8208 - val_loss: 0.0959 - val_accuracy: 0.8485\n",
      "Epoch 161/300\n",
      "586/586 [==============================] - 0s 50us/sample - loss: 0.1214 - accuracy: 0.8311 - val_loss: 0.0950 - val_accuracy: 0.8636\n",
      "Epoch 162/300\n",
      "586/586 [==============================] - 0s 48us/sample - loss: 0.1325 - accuracy: 0.8191 - val_loss: 0.0946 - val_accuracy: 0.8636\n",
      "Epoch 163/300\n",
      "586/586 [==============================] - 0s 44us/sample - loss: 0.1254 - accuracy: 0.8430 - val_loss: 0.0942 - val_accuracy: 0.8788\n",
      "Epoch 164/300\n",
      "586/586 [==============================] - 0s 55us/sample - loss: 0.1174 - accuracy: 0.8464 - val_loss: 0.0944 - val_accuracy: 0.8636\n",
      "Epoch 165/300\n",
      "586/586 [==============================] - 0s 52us/sample - loss: 0.1154 - accuracy: 0.8294 - val_loss: 0.0933 - val_accuracy: 0.8788\n",
      "Epoch 166/300\n",
      "586/586 [==============================] - 0s 50us/sample - loss: 0.1226 - accuracy: 0.8362 - val_loss: 0.0937 - val_accuracy: 0.8788\n",
      "Epoch 167/300\n"
     ]
    },
    {
     "name": "stdout",
     "output_type": "stream",
     "text": [
      "586/586 [==============================] - 0s 51us/sample - loss: 0.1321 - accuracy: 0.8174 - val_loss: 0.0942 - val_accuracy: 0.8636\n",
      "Epoch 168/300\n",
      "586/586 [==============================] - 0s 53us/sample - loss: 0.1190 - accuracy: 0.8464 - val_loss: 0.0942 - val_accuracy: 0.8485\n",
      "Epoch 169/300\n",
      "586/586 [==============================] - 0s 49us/sample - loss: 0.1221 - accuracy: 0.8328 - val_loss: 0.0940 - val_accuracy: 0.8636\n",
      "Epoch 170/300\n",
      "586/586 [==============================] - 0s 52us/sample - loss: 0.1196 - accuracy: 0.8430 - val_loss: 0.0934 - val_accuracy: 0.8636\n",
      "Epoch 171/300\n",
      "586/586 [==============================] - 0s 45us/sample - loss: 0.1224 - accuracy: 0.8379 - val_loss: 0.0929 - val_accuracy: 0.8636\n",
      "Epoch 172/300\n",
      "586/586 [==============================] - 0s 48us/sample - loss: 0.1183 - accuracy: 0.8413 - val_loss: 0.0927 - val_accuracy: 0.8636\n",
      "Epoch 173/300\n",
      "586/586 [==============================] - 0s 49us/sample - loss: 0.1199 - accuracy: 0.8515 - val_loss: 0.0925 - val_accuracy: 0.8788\n",
      "Epoch 174/300\n",
      "586/586 [==============================] - 0s 46us/sample - loss: 0.1149 - accuracy: 0.8413 - val_loss: 0.0917 - val_accuracy: 0.8636\n",
      "Epoch 175/300\n",
      "586/586 [==============================] - 0s 46us/sample - loss: 0.1209 - accuracy: 0.8481 - val_loss: 0.0916 - val_accuracy: 0.8636\n",
      "Epoch 176/300\n",
      "586/586 [==============================] - 0s 48us/sample - loss: 0.1217 - accuracy: 0.8225 - val_loss: 0.0908 - val_accuracy: 0.8636\n",
      "Epoch 177/300\n",
      "586/586 [==============================] - 0s 56us/sample - loss: 0.1268 - accuracy: 0.8294 - val_loss: 0.0908 - val_accuracy: 0.8636\n",
      "Epoch 178/300\n",
      "586/586 [==============================] - 0s 56us/sample - loss: 0.1175 - accuracy: 0.8413 - val_loss: 0.0897 - val_accuracy: 0.8788\n",
      "Epoch 179/300\n",
      "586/586 [==============================] - 0s 55us/sample - loss: 0.1123 - accuracy: 0.8584 - val_loss: 0.0891 - val_accuracy: 0.8788\n",
      "Epoch 180/300\n",
      "586/586 [==============================] - 0s 51us/sample - loss: 0.1182 - accuracy: 0.8498 - val_loss: 0.0884 - val_accuracy: 0.8788\n",
      "Epoch 181/300\n",
      "586/586 [==============================] - 0s 47us/sample - loss: 0.1147 - accuracy: 0.8430 - val_loss: 0.0884 - val_accuracy: 0.8788\n",
      "Epoch 182/300\n",
      "586/586 [==============================] - 0s 47us/sample - loss: 0.1291 - accuracy: 0.8242 - val_loss: 0.0879 - val_accuracy: 0.8788\n",
      "Epoch 183/300\n",
      "586/586 [==============================] - 0s 46us/sample - loss: 0.1147 - accuracy: 0.8515 - val_loss: 0.0886 - val_accuracy: 0.8788\n",
      "Epoch 184/300\n",
      "586/586 [==============================] - 0s 46us/sample - loss: 0.1218 - accuracy: 0.8311 - val_loss: 0.0881 - val_accuracy: 0.8939\n",
      "Epoch 185/300\n",
      "586/586 [==============================] - 0s 46us/sample - loss: 0.1250 - accuracy: 0.8396 - val_loss: 0.0873 - val_accuracy: 0.8939\n",
      "Epoch 186/300\n",
      "586/586 [==============================] - 0s 47us/sample - loss: 0.1195 - accuracy: 0.8413 - val_loss: 0.0865 - val_accuracy: 0.8939\n",
      "Epoch 187/300\n",
      "586/586 [==============================] - 0s 46us/sample - loss: 0.1209 - accuracy: 0.8362 - val_loss: 0.0865 - val_accuracy: 0.8788\n",
      "Epoch 188/300\n",
      "586/586 [==============================] - 0s 47us/sample - loss: 0.1181 - accuracy: 0.8379 - val_loss: 0.0865 - val_accuracy: 0.8788\n",
      "Epoch 189/300\n",
      "586/586 [==============================] - 0s 46us/sample - loss: 0.1166 - accuracy: 0.8464 - val_loss: 0.0864 - val_accuracy: 0.8788\n",
      "Epoch 190/300\n",
      "586/586 [==============================] - 0s 49us/sample - loss: 0.1216 - accuracy: 0.8345 - val_loss: 0.0862 - val_accuracy: 0.8788\n",
      "Epoch 191/300\n",
      "586/586 [==============================] - 0s 47us/sample - loss: 0.1188 - accuracy: 0.8328 - val_loss: 0.0865 - val_accuracy: 0.8939\n",
      "Epoch 192/300\n",
      "586/586 [==============================] - 0s 48us/sample - loss: 0.1187 - accuracy: 0.8413 - val_loss: 0.0862 - val_accuracy: 0.8939\n",
      "Epoch 193/300\n",
      "586/586 [==============================] - 0s 45us/sample - loss: 0.1165 - accuracy: 0.8532 - val_loss: 0.0854 - val_accuracy: 0.8788\n",
      "Epoch 194/300\n",
      "586/586 [==============================] - 0s 49us/sample - loss: 0.1120 - accuracy: 0.8532 - val_loss: 0.0860 - val_accuracy: 0.8939\n",
      "Epoch 195/300\n",
      "586/586 [==============================] - 0s 47us/sample - loss: 0.1151 - accuracy: 0.8413 - val_loss: 0.0851 - val_accuracy: 0.8939\n",
      "Epoch 196/300\n",
      "586/586 [==============================] - 0s 45us/sample - loss: 0.1190 - accuracy: 0.8294 - val_loss: 0.0846 - val_accuracy: 0.8788\n",
      "Epoch 197/300\n",
      "586/586 [==============================] - 0s 47us/sample - loss: 0.1150 - accuracy: 0.8464 - val_loss: 0.0843 - val_accuracy: 0.8939\n",
      "Epoch 198/300\n",
      "586/586 [==============================] - 0s 49us/sample - loss: 0.1156 - accuracy: 0.8549 - val_loss: 0.0843 - val_accuracy: 0.8788\n",
      "Epoch 199/300\n",
      "586/586 [==============================] - 0s 49us/sample - loss: 0.1148 - accuracy: 0.8498 - val_loss: 0.0842 - val_accuracy: 0.8788\n",
      "Epoch 200/300\n",
      "586/586 [==============================] - 0s 48us/sample - loss: 0.1061 - accuracy: 0.8584 - val_loss: 0.0844 - val_accuracy: 0.8788\n",
      "Epoch 201/300\n",
      "586/586 [==============================] - 0s 45us/sample - loss: 0.1174 - accuracy: 0.8413 - val_loss: 0.0837 - val_accuracy: 0.8788\n",
      "Epoch 202/300\n",
      "586/586 [==============================] - 0s 46us/sample - loss: 0.1167 - accuracy: 0.8498 - val_loss: 0.0835 - val_accuracy: 0.8788\n",
      "Epoch 203/300\n",
      "586/586 [==============================] - 0s 47us/sample - loss: 0.1133 - accuracy: 0.8515 - val_loss: 0.0832 - val_accuracy: 0.8788\n",
      "Epoch 204/300\n",
      "586/586 [==============================] - 0s 47us/sample - loss: 0.1112 - accuracy: 0.8515 - val_loss: 0.0831 - val_accuracy: 0.8788\n",
      "Epoch 205/300\n",
      "586/586 [==============================] - 0s 48us/sample - loss: 0.1070 - accuracy: 0.8635 - val_loss: 0.0820 - val_accuracy: 0.8788\n",
      "Epoch 206/300\n",
      "586/586 [==============================] - 0s 47us/sample - loss: 0.1086 - accuracy: 0.8515 - val_loss: 0.0827 - val_accuracy: 0.8788\n",
      "Epoch 207/300\n",
      "586/586 [==============================] - 0s 46us/sample - loss: 0.1121 - accuracy: 0.8532 - val_loss: 0.0827 - val_accuracy: 0.8788\n",
      "Epoch 208/300\n",
      "586/586 [==============================] - 0s 46us/sample - loss: 0.1060 - accuracy: 0.8635 - val_loss: 0.0818 - val_accuracy: 0.8788\n",
      "Epoch 209/300\n",
      "586/586 [==============================] - 0s 48us/sample - loss: 0.1145 - accuracy: 0.8464 - val_loss: 0.0822 - val_accuracy: 0.8788\n",
      "Epoch 210/300\n",
      "586/586 [==============================] - 0s 46us/sample - loss: 0.1096 - accuracy: 0.8567 - val_loss: 0.0815 - val_accuracy: 0.8788\n",
      "Epoch 211/300\n",
      "586/586 [==============================] - 0s 53us/sample - loss: 0.1086 - accuracy: 0.8584 - val_loss: 0.0815 - val_accuracy: 0.8788\n",
      "Epoch 212/300\n",
      "586/586 [==============================] - 0s 63us/sample - loss: 0.1143 - accuracy: 0.8464 - val_loss: 0.0816 - val_accuracy: 0.8939\n",
      "Epoch 213/300\n",
      "586/586 [==============================] - 0s 53us/sample - loss: 0.1061 - accuracy: 0.8584 - val_loss: 0.0803 - val_accuracy: 0.8788\n",
      "Epoch 214/300\n",
      "586/586 [==============================] - 0s 48us/sample - loss: 0.1119 - accuracy: 0.8498 - val_loss: 0.0805 - val_accuracy: 0.8788\n",
      "Epoch 215/300\n",
      "586/586 [==============================] - 0s 48us/sample - loss: 0.1160 - accuracy: 0.8447 - val_loss: 0.0805 - val_accuracy: 0.8788\n",
      "Epoch 216/300\n",
      "586/586 [==============================] - 0s 45us/sample - loss: 0.1051 - accuracy: 0.8618 - val_loss: 0.0808 - val_accuracy: 0.8788\n",
      "Epoch 217/300\n",
      "586/586 [==============================] - 0s 47us/sample - loss: 0.1043 - accuracy: 0.8549 - val_loss: 0.0815 - val_accuracy: 0.8788\n",
      "Epoch 218/300\n",
      "586/586 [==============================] - 0s 48us/sample - loss: 0.1136 - accuracy: 0.8532 - val_loss: 0.0812 - val_accuracy: 0.8788\n",
      "Epoch 219/300\n",
      "586/586 [==============================] - 0s 47us/sample - loss: 0.1125 - accuracy: 0.8430 - val_loss: 0.0803 - val_accuracy: 0.8788\n",
      "Epoch 220/300\n",
      "586/586 [==============================] - 0s 50us/sample - loss: 0.1038 - accuracy: 0.8652 - val_loss: 0.0788 - val_accuracy: 0.8939\n",
      "Epoch 221/300\n",
      "586/586 [==============================] - 0s 47us/sample - loss: 0.1054 - accuracy: 0.8652 - val_loss: 0.0782 - val_accuracy: 0.8788\n",
      "Epoch 222/300\n"
     ]
    },
    {
     "name": "stdout",
     "output_type": "stream",
     "text": [
      "586/586 [==============================] - 0s 48us/sample - loss: 0.0988 - accuracy: 0.8703 - val_loss: 0.0786 - val_accuracy: 0.8788\n",
      "Epoch 223/300\n",
      "586/586 [==============================] - 0s 45us/sample - loss: 0.1059 - accuracy: 0.8464 - val_loss: 0.0789 - val_accuracy: 0.8788\n",
      "Epoch 224/300\n",
      "586/586 [==============================] - 0s 51us/sample - loss: 0.1050 - accuracy: 0.8703 - val_loss: 0.0802 - val_accuracy: 0.8788\n",
      "Epoch 225/300\n",
      "586/586 [==============================] - 0s 47us/sample - loss: 0.1063 - accuracy: 0.8601 - val_loss: 0.0790 - val_accuracy: 0.8788\n",
      "Epoch 226/300\n",
      "586/586 [==============================] - 0s 52us/sample - loss: 0.1032 - accuracy: 0.8618 - val_loss: 0.0797 - val_accuracy: 0.8788\n",
      "Epoch 227/300\n",
      "586/586 [==============================] - 0s 47us/sample - loss: 0.1068 - accuracy: 0.8567 - val_loss: 0.0812 - val_accuracy: 0.8788\n",
      "Epoch 228/300\n",
      "586/586 [==============================] - 0s 55us/sample - loss: 0.1070 - accuracy: 0.8584 - val_loss: 0.0803 - val_accuracy: 0.8788\n",
      "Epoch 229/300\n",
      "586/586 [==============================] - 0s 51us/sample - loss: 0.1043 - accuracy: 0.8413 - val_loss: 0.0799 - val_accuracy: 0.8788\n",
      "Epoch 230/300\n",
      "586/586 [==============================] - 0s 51us/sample - loss: 0.1084 - accuracy: 0.8464 - val_loss: 0.0803 - val_accuracy: 0.8788\n",
      "Epoch 231/300\n",
      "586/586 [==============================] - 0s 53us/sample - loss: 0.1066 - accuracy: 0.8652 - val_loss: 0.0793 - val_accuracy: 0.8788\n",
      "Epoch 232/300\n",
      "586/586 [==============================] - 0s 63us/sample - loss: 0.0950 - accuracy: 0.8805 - val_loss: 0.0785 - val_accuracy: 0.8788\n",
      "Epoch 233/300\n",
      "586/586 [==============================] - 0s 60us/sample - loss: 0.0966 - accuracy: 0.8737 - val_loss: 0.0777 - val_accuracy: 0.8939\n",
      "Epoch 234/300\n",
      "586/586 [==============================] - 0s 51us/sample - loss: 0.1078 - accuracy: 0.8481 - val_loss: 0.0780 - val_accuracy: 0.8788\n",
      "Epoch 235/300\n",
      "586/586 [==============================] - 0s 54us/sample - loss: 0.0997 - accuracy: 0.8703 - val_loss: 0.0779 - val_accuracy: 0.8788\n",
      "Epoch 236/300\n",
      "586/586 [==============================] - 0s 53us/sample - loss: 0.0997 - accuracy: 0.8584 - val_loss: 0.0767 - val_accuracy: 0.8788\n",
      "Epoch 237/300\n",
      "586/586 [==============================] - 0s 46us/sample - loss: 0.0996 - accuracy: 0.8652 - val_loss: 0.0759 - val_accuracy: 0.8939\n",
      "Epoch 238/300\n",
      "586/586 [==============================] - 0s 49us/sample - loss: 0.1032 - accuracy: 0.8567 - val_loss: 0.0779 - val_accuracy: 0.8788\n",
      "Epoch 239/300\n",
      "586/586 [==============================] - 0s 51us/sample - loss: 0.1106 - accuracy: 0.8481 - val_loss: 0.0776 - val_accuracy: 0.8788\n",
      "Epoch 240/300\n",
      "586/586 [==============================] - 0s 50us/sample - loss: 0.1100 - accuracy: 0.8447 - val_loss: 0.0795 - val_accuracy: 0.8939\n",
      "Epoch 241/300\n",
      "586/586 [==============================] - 0s 51us/sample - loss: 0.1112 - accuracy: 0.8481 - val_loss: 0.0794 - val_accuracy: 0.8939\n",
      "Epoch 242/300\n",
      "586/586 [==============================] - 0s 50us/sample - loss: 0.1048 - accuracy: 0.8618 - val_loss: 0.0797 - val_accuracy: 0.8788\n",
      "Epoch 243/300\n",
      "586/586 [==============================] - 0s 47us/sample - loss: 0.0985 - accuracy: 0.8771 - val_loss: 0.0781 - val_accuracy: 0.8636\n",
      "Epoch 244/300\n",
      "586/586 [==============================] - 0s 49us/sample - loss: 0.1068 - accuracy: 0.8549 - val_loss: 0.0779 - val_accuracy: 0.8788\n",
      "Epoch 245/300\n",
      "586/586 [==============================] - 0s 50us/sample - loss: 0.0975 - accuracy: 0.8669 - val_loss: 0.0777 - val_accuracy: 0.8788\n",
      "Epoch 246/300\n",
      "586/586 [==============================] - 0s 52us/sample - loss: 0.1082 - accuracy: 0.8464 - val_loss: 0.0773 - val_accuracy: 0.8788\n",
      "Epoch 247/300\n",
      "586/586 [==============================] - 0s 53us/sample - loss: 0.1035 - accuracy: 0.8567 - val_loss: 0.0780 - val_accuracy: 0.8788\n",
      "Epoch 248/300\n",
      "586/586 [==============================] - 0s 50us/sample - loss: 0.1057 - accuracy: 0.8567 - val_loss: 0.0785 - val_accuracy: 0.8939\n",
      "Epoch 249/300\n",
      "586/586 [==============================] - 0s 52us/sample - loss: 0.0970 - accuracy: 0.8549 - val_loss: 0.0774 - val_accuracy: 0.8788\n",
      "Epoch 250/300\n",
      "586/586 [==============================] - 0s 44us/sample - loss: 0.0947 - accuracy: 0.8737 - val_loss: 0.0764 - val_accuracy: 0.8939\n",
      "Epoch 251/300\n",
      "586/586 [==============================] - 0s 51us/sample - loss: 0.0962 - accuracy: 0.8788 - val_loss: 0.0765 - val_accuracy: 0.8788\n",
      "Epoch 252/300\n",
      "586/586 [==============================] - 0s 47us/sample - loss: 0.0939 - accuracy: 0.8874 - val_loss: 0.0757 - val_accuracy: 0.8788\n",
      "Epoch 253/300\n",
      "586/586 [==============================] - 0s 48us/sample - loss: 0.1023 - accuracy: 0.8532 - val_loss: 0.0757 - val_accuracy: 0.8788\n",
      "Epoch 254/300\n",
      "586/586 [==============================] - 0s 47us/sample - loss: 0.0963 - accuracy: 0.8805 - val_loss: 0.0740 - val_accuracy: 0.8939\n",
      "Epoch 255/300\n",
      "586/586 [==============================] - 0s 50us/sample - loss: 0.0988 - accuracy: 0.8754 - val_loss: 0.0736 - val_accuracy: 0.8939\n",
      "Epoch 256/300\n",
      "586/586 [==============================] - 0s 52us/sample - loss: 0.0951 - accuracy: 0.8771 - val_loss: 0.0751 - val_accuracy: 0.8788\n",
      "Epoch 257/300\n",
      "586/586 [==============================] - 0s 48us/sample - loss: 0.0926 - accuracy: 0.8720 - val_loss: 0.0741 - val_accuracy: 0.8788\n",
      "Epoch 258/300\n",
      "586/586 [==============================] - 0s 50us/sample - loss: 0.1001 - accuracy: 0.8618 - val_loss: 0.0746 - val_accuracy: 0.8788\n",
      "Epoch 259/300\n",
      "586/586 [==============================] - 0s 53us/sample - loss: 0.0974 - accuracy: 0.8686 - val_loss: 0.0756 - val_accuracy: 0.8939\n",
      "Epoch 260/300\n",
      "586/586 [==============================] - 0s 53us/sample - loss: 0.0997 - accuracy: 0.8703 - val_loss: 0.0745 - val_accuracy: 0.8939\n",
      "Epoch 261/300\n",
      "586/586 [==============================] - 0s 44us/sample - loss: 0.0924 - accuracy: 0.8771 - val_loss: 0.0748 - val_accuracy: 0.8939\n",
      "Epoch 262/300\n",
      "586/586 [==============================] - 0s 49us/sample - loss: 0.0991 - accuracy: 0.8618 - val_loss: 0.0757 - val_accuracy: 0.8939\n",
      "Epoch 263/300\n",
      "586/586 [==============================] - 0s 51us/sample - loss: 0.0991 - accuracy: 0.8567 - val_loss: 0.0756 - val_accuracy: 0.8939\n",
      "Epoch 264/300\n",
      "586/586 [==============================] - 0s 46us/sample - loss: 0.1009 - accuracy: 0.8549 - val_loss: 0.0760 - val_accuracy: 0.8939\n",
      "Epoch 265/300\n",
      "586/586 [==============================] - 0s 49us/sample - loss: 0.0983 - accuracy: 0.8601 - val_loss: 0.0745 - val_accuracy: 0.8939\n",
      "Epoch 266/300\n",
      "586/586 [==============================] - 0s 48us/sample - loss: 0.1043 - accuracy: 0.8584 - val_loss: 0.0745 - val_accuracy: 0.8788\n",
      "Epoch 267/300\n",
      "586/586 [==============================] - 0s 49us/sample - loss: 0.0896 - accuracy: 0.8686 - val_loss: 0.0732 - val_accuracy: 0.8788\n",
      "Epoch 268/300\n",
      "586/586 [==============================] - 0s 57us/sample - loss: 0.1112 - accuracy: 0.8515 - val_loss: 0.0740 - val_accuracy: 0.8939\n",
      "Epoch 269/300\n",
      "586/586 [==============================] - 0s 50us/sample - loss: 0.0894 - accuracy: 0.8942 - val_loss: 0.0732 - val_accuracy: 0.8939\n",
      "Epoch 270/300\n",
      "586/586 [==============================] - 0s 50us/sample - loss: 0.0921 - accuracy: 0.8669 - val_loss: 0.0739 - val_accuracy: 0.8788\n",
      "Epoch 271/300\n",
      "586/586 [==============================] - 0s 45us/sample - loss: 0.0907 - accuracy: 0.8788 - val_loss: 0.0744 - val_accuracy: 0.8788\n",
      "Epoch 272/300\n",
      "586/586 [==============================] - 0s 47us/sample - loss: 0.0959 - accuracy: 0.8805 - val_loss: 0.0754 - val_accuracy: 0.8788\n",
      "Epoch 273/300\n",
      "586/586 [==============================] - 0s 48us/sample - loss: 0.1011 - accuracy: 0.8532 - val_loss: 0.0748 - val_accuracy: 0.8939\n",
      "Epoch 274/300\n",
      "586/586 [==============================] - 0s 47us/sample - loss: 0.0922 - accuracy: 0.8720 - val_loss: 0.0757 - val_accuracy: 0.8939\n",
      "Epoch 275/300\n",
      "586/586 [==============================] - 0s 49us/sample - loss: 0.0848 - accuracy: 0.8823 - val_loss: 0.0752 - val_accuracy: 0.8939\n",
      "Epoch 276/300\n",
      "586/586 [==============================] - 0s 51us/sample - loss: 0.0963 - accuracy: 0.8771 - val_loss: 0.0769 - val_accuracy: 0.9091\n",
      "Epoch 277/300\n"
     ]
    },
    {
     "name": "stdout",
     "output_type": "stream",
     "text": [
      "586/586 [==============================] - 0s 49us/sample - loss: 0.0956 - accuracy: 0.8652 - val_loss: 0.0748 - val_accuracy: 0.9091\n",
      "Epoch 278/300\n",
      "586/586 [==============================] - 0s 50us/sample - loss: 0.0903 - accuracy: 0.8823 - val_loss: 0.0764 - val_accuracy: 0.9091\n",
      "Epoch 279/300\n",
      "586/586 [==============================] - 0s 50us/sample - loss: 0.0950 - accuracy: 0.8703 - val_loss: 0.0757 - val_accuracy: 0.9091\n",
      "Epoch 280/300\n",
      "586/586 [==============================] - 0s 58us/sample - loss: 0.0934 - accuracy: 0.8788 - val_loss: 0.0755 - val_accuracy: 0.9242\n",
      "Epoch 281/300\n",
      "586/586 [==============================] - 0s 62us/sample - loss: 0.0932 - accuracy: 0.8788 - val_loss: 0.0741 - val_accuracy: 0.9091\n",
      "Epoch 282/300\n",
      "586/586 [==============================] - 0s 46us/sample - loss: 0.0973 - accuracy: 0.8669 - val_loss: 0.0740 - val_accuracy: 0.9242\n",
      "Epoch 283/300\n",
      "586/586 [==============================] - 0s 47us/sample - loss: 0.0882 - accuracy: 0.8840 - val_loss: 0.0754 - val_accuracy: 0.9091\n",
      "Epoch 284/300\n",
      "586/586 [==============================] - 0s 51us/sample - loss: 0.0961 - accuracy: 0.8601 - val_loss: 0.0749 - val_accuracy: 0.9091\n",
      "Epoch 285/300\n",
      "586/586 [==============================] - 0s 50us/sample - loss: 0.0899 - accuracy: 0.8840 - val_loss: 0.0758 - val_accuracy: 0.8939\n",
      "Epoch 286/300\n",
      "586/586 [==============================] - 0s 49us/sample - loss: 0.1011 - accuracy: 0.8413 - val_loss: 0.0741 - val_accuracy: 0.9242\n",
      "Epoch 287/300\n",
      "586/586 [==============================] - 0s 44us/sample - loss: 0.0940 - accuracy: 0.8788 - val_loss: 0.0731 - val_accuracy: 0.9091\n",
      "Epoch 288/300\n",
      "586/586 [==============================] - 0s 48us/sample - loss: 0.0934 - accuracy: 0.8686 - val_loss: 0.0757 - val_accuracy: 0.9091\n",
      "Epoch 289/300\n",
      "586/586 [==============================] - 0s 46us/sample - loss: 0.0879 - accuracy: 0.8823 - val_loss: 0.0739 - val_accuracy: 0.9091\n",
      "Epoch 290/300\n",
      "586/586 [==============================] - 0s 47us/sample - loss: 0.0884 - accuracy: 0.8840 - val_loss: 0.0731 - val_accuracy: 0.9091\n",
      "Epoch 291/300\n",
      "586/586 [==============================] - 0s 45us/sample - loss: 0.0888 - accuracy: 0.8857 - val_loss: 0.0727 - val_accuracy: 0.9091\n",
      "Epoch 292/300\n",
      "586/586 [==============================] - 0s 48us/sample - loss: 0.0905 - accuracy: 0.8788 - val_loss: 0.0748 - val_accuracy: 0.9091\n",
      "Epoch 293/300\n",
      "586/586 [==============================] - 0s 50us/sample - loss: 0.0938 - accuracy: 0.8754 - val_loss: 0.0742 - val_accuracy: 0.9242\n",
      "Epoch 294/300\n",
      "586/586 [==============================] - 0s 47us/sample - loss: 0.0924 - accuracy: 0.8840 - val_loss: 0.0722 - val_accuracy: 0.9091\n",
      "Epoch 295/300\n",
      "586/586 [==============================] - 0s 46us/sample - loss: 0.0888 - accuracy: 0.8771 - val_loss: 0.0763 - val_accuracy: 0.9242\n",
      "Epoch 296/300\n",
      "586/586 [==============================] - 0s 46us/sample - loss: 0.0957 - accuracy: 0.8686 - val_loss: 0.0738 - val_accuracy: 0.9091\n",
      "Epoch 297/300\n",
      "586/586 [==============================] - 0s 47us/sample - loss: 0.0914 - accuracy: 0.8737 - val_loss: 0.0743 - val_accuracy: 0.9091\n",
      "Epoch 298/300\n",
      "586/586 [==============================] - 0s 46us/sample - loss: 0.0839 - accuracy: 0.8805 - val_loss: 0.0749 - val_accuracy: 0.9091\n",
      "Epoch 299/300\n",
      "586/586 [==============================] - 0s 48us/sample - loss: 0.0912 - accuracy: 0.8737 - val_loss: 0.0757 - val_accuracy: 0.9091\n",
      "Epoch 300/300\n",
      "586/586 [==============================] - 0s 48us/sample - loss: 0.0836 - accuracy: 0.8823 - val_loss: 0.0767 - val_accuracy: 0.9242\n"
     ]
    },
    {
     "data": {
      "text/plain": [
       "<tensorflow.python.keras.callbacks.History at 0x132dc75f8>"
      ]
     },
     "execution_count": 35,
     "metadata": {},
     "output_type": "execute_result"
    }
   ],
   "source": [
    "model.fit(X_train, y_train, epochs=300, validation_split=0.1, callbacks=[tensorboard_callback])"
   ]
  },
  {
   "cell_type": "code",
   "execution_count": 36,
   "metadata": {},
   "outputs": [
    {
     "name": "stderr",
     "output_type": "stream",
     "text": [
      "W0725 17:10:47.524053 4692284864 training.py:504] Falling back from v2 loop because of error: Failed to find data adapter that can handle input: <class 'pandas.core.frame.DataFrame'>, <class 'NoneType'>\n"
     ]
    },
    {
     "name": "stdout",
     "output_type": "stream",
     "text": [
      "116/116 [==============================] - 0s 61us/sample - loss: 0.0734 - accuracy: 0.9052\n",
      "test loss, test acc: [0.07343465911931005, 0.9051724]\n"
     ]
    }
   ],
   "source": [
    "results = model.evaluate(X_test, y_test)\n",
    "print(\"test loss, test acc:\", results)"
   ]
  },
  {
   "cell_type": "code",
   "execution_count": null,
   "metadata": {},
   "outputs": [],
   "source": []
  }
 ],
 "metadata": {
  "kernelspec": {
   "display_name": "Python 3",
   "language": "python",
   "name": "python3"
  },
  "language_info": {
   "codemirror_mode": {
    "name": "ipython",
    "version": 3
   },
   "file_extension": ".py",
   "mimetype": "text/x-python",
   "name": "python",
   "nbconvert_exporter": "python",
   "pygments_lexer": "ipython3",
   "version": "3.6.8"
  }
 },
 "nbformat": 4,
 "nbformat_minor": 4
}
